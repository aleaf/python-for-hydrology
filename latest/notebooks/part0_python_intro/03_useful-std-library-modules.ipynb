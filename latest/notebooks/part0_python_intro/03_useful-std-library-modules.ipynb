{
 "cells": [
  {
   "cell_type": "markdown",
   "metadata": {},
   "source": [
    "# 03: Useful standard library modules\n",
    "(pathlib, shutil, sys, os, subprocess, zipfile, etc.)\n",
    "\n",
    "These packages are part of the standard python library and provide very useful functionality for working with your operating system and files.  This notebook will provide explore these packages and demonstrate some of their functionality.  Online documentation is at https://docs.python.org/3/library/.\n",
    "\n",
    "\n",
    "#### Topics covered:\n",
    "* **pathlib**:\n",
    "    * listing files\n",
    "    * creating, moving and deleting files\n",
    "    * absolute vs relative paths\n",
    "    * useful path object attributes\n",
    "* **shutil**: \n",
    "    * copying, moving and deleting files AND folders\n",
    "* **sys**: \n",
    "    * python and platform information\n",
    "    * command line arguments\n",
    "    * modifying the python path to import code from other locations\n",
    "* **os**:\n",
    "    * changing the working directory\n",
    "    * recursive iteration through folder structures\n",
    "    * accessing environmental variables\n",
    "* **subprocess**: \n",
    "    * running system commands and checking the results\n",
    "* **zipfile**:\n",
    "    * creating and extracting from zip archives"
   ]
  },
  {
   "cell_type": "code",
   "execution_count": 1,
   "metadata": {
    "execution": {
     "iopub.execute_input": "2024-03-21T15:39:51.009962Z",
     "iopub.status.busy": "2024-03-21T15:39:51.009530Z",
     "iopub.status.idle": "2024-03-21T15:39:51.014485Z",
     "shell.execute_reply": "2024-03-21T15:39:51.014033Z"
    }
   },
   "outputs": [],
   "source": [
    "import os\n",
    "from pathlib import Path\n",
    "import shutil\n",
    "import subprocess\n",
    "import sys\n",
    "import zipfile"
   ]
  },
  {
   "cell_type": "markdown",
   "metadata": {},
   "source": [
    "## ``pathlib`` — Object-oriented filesystem paths\n",
    "Pathlib provides convenient \"pathlike\" objects for working with file paths across platforms (meaning paths or operations done with pathlib work the same on Windows or POSIX systems (Linux, OSX, etc)). The main entry point for users is the ``Path()`` class.\n",
    "\n",
    "further reading:  \n",
    "https://treyhunner.com/2018/12/why-you-should-be-using-pathlib/  \n",
    "https://docs.python.org/3/library/pathlib.html"
   ]
  },
  {
   "cell_type": "markdown",
   "metadata": {},
   "source": [
    "#### Make a ``Path()`` object for the current folder"
   ]
  },
  {
   "cell_type": "code",
   "execution_count": 2,
   "metadata": {
    "execution": {
     "iopub.execute_input": "2024-03-21T15:39:51.016523Z",
     "iopub.status.busy": "2024-03-21T15:39:51.016375Z",
     "iopub.status.idle": "2024-03-21T15:39:51.021140Z",
     "shell.execute_reply": "2024-03-21T15:39:51.020676Z"
    }
   },
   "outputs": [
    {
     "data": {
      "text/plain": [
       "PosixPath('.')"
      ]
     },
     "execution_count": 2,
     "metadata": {},
     "output_type": "execute_result"
    }
   ],
   "source": [
    "cwd = Path('.')\n",
    "cwd"
   ]
  },
  {
   "cell_type": "markdown",
   "metadata": {},
   "source": [
    "### Listing files"
   ]
  },
  {
   "cell_type": "code",
   "execution_count": 3,
   "metadata": {
    "execution": {
     "iopub.execute_input": "2024-03-21T15:39:51.023186Z",
     "iopub.status.busy": "2024-03-21T15:39:51.022740Z",
     "iopub.status.idle": "2024-03-21T15:39:51.026220Z",
     "shell.execute_reply": "2024-03-21T15:39:51.025761Z"
    }
   },
   "outputs": [
    {
     "name": "stdout",
     "output_type": "stream",
     "text": [
      "03_useful-std-library-modules.ipynb\n",
      "09_b_Geopandas_ABQ.ipynb\n",
      "data\n",
      "09_a_Geopandas.ipynb\n",
      "10_Rasterio.ipynb\n",
      "06b_matplotlib_animation.ipynb\n",
      "07b_VSCode.md\n",
      "11_xarray_mt_rainier_precip.ipynb\n",
      "05_numpy.ipynb\n",
      "solutions\n",
      "00_python_basics_review.ipynb\n"
     ]
    }
   ],
   "source": [
    "for f in cwd.iterdir():\n",
    "    print(f)"
   ]
  },
  {
   "cell_type": "markdown",
   "metadata": {},
   "source": [
    "#### List just the notebooks using the ``.glob()`` method"
   ]
  },
  {
   "cell_type": "code",
   "execution_count": 4,
   "metadata": {
    "execution": {
     "iopub.execute_input": "2024-03-21T15:39:51.028280Z",
     "iopub.status.busy": "2024-03-21T15:39:51.027870Z",
     "iopub.status.idle": "2024-03-21T15:39:51.031190Z",
     "shell.execute_reply": "2024-03-21T15:39:51.030734Z"
    }
   },
   "outputs": [
    {
     "name": "stdout",
     "output_type": "stream",
     "text": [
      "03_useful-std-library-modules.ipynb\n",
      "09_b_Geopandas_ABQ.ipynb\n",
      "09_a_Geopandas.ipynb\n",
      "10_Rasterio.ipynb\n",
      "06b_matplotlib_animation.ipynb\n",
      "11_xarray_mt_rainier_precip.ipynb\n",
      "05_numpy.ipynb\n",
      "00_python_basics_review.ipynb\n"
     ]
    }
   ],
   "source": [
    "for nb in cwd.glob('*.ipynb'):\n",
    "    print(nb)"
   ]
  },
  {
   "cell_type": "markdown",
   "metadata": {},
   "source": [
    "#### Note: ``.glob()`` works across folders too\n",
    "List all notebooks for both class components"
   ]
  },
  {
   "cell_type": "code",
   "execution_count": 5,
   "metadata": {
    "execution": {
     "iopub.execute_input": "2024-03-21T15:39:51.032861Z",
     "iopub.status.busy": "2024-03-21T15:39:51.032708Z",
     "iopub.status.idle": "2024-03-21T15:39:51.035890Z",
     "shell.execute_reply": "2024-03-21T15:39:51.035456Z"
    }
   },
   "outputs": [
    {
     "name": "stdout",
     "output_type": "stream",
     "text": [
      "../part0_python_intro/03_useful-std-library-modules.ipynb\n",
      "../part0_python_intro/09_b_Geopandas_ABQ.ipynb\n",
      "../part0_python_intro/09_a_Geopandas.ipynb\n",
      "../part0_python_intro/10_Rasterio.ipynb\n",
      "../part0_python_intro/06b_matplotlib_animation.ipynb\n",
      "../part0_python_intro/11_xarray_mt_rainier_precip.ipynb\n",
      "../part0_python_intro/05_numpy.ipynb\n",
      "../part0_python_intro/00_python_basics_review.ipynb\n",
      "../part1_flopy/10_modpath_particle_tracking-demo.ipynb\n",
      "../part1_flopy/05-unstructured-grids.ipynb\n",
      "../part1_flopy/08_Modflow-setup-demo.ipynb\n",
      "../part1_flopy/09-gwt-voronoi-demo.ipynb\n",
      "../part1_flopy/01-Flopy-intro.ipynb\n"
     ]
    }
   ],
   "source": [
    "for nb in cwd.glob('../*/*.ipynb'):\n",
    "    print(nb)"
   ]
  },
  {
   "cell_type": "markdown",
   "metadata": {},
   "source": [
    "#### But ``glob`` results aren't sorted alphabetically!\n",
    "(and the sorting is platform-dependent)\n",
    "\n",
    "https://arstechnica.com/information-technology/2019/10/chemists-discover-cross-platform-python-scripts-not-so-cross-platform/?comments=1&post=38113333\n",
    "\n",
    "we can easily sort them by casting the results to a list"
   ]
  },
  {
   "cell_type": "code",
   "execution_count": 6,
   "metadata": {
    "execution": {
     "iopub.execute_input": "2024-03-21T15:39:51.037891Z",
     "iopub.status.busy": "2024-03-21T15:39:51.037526Z",
     "iopub.status.idle": "2024-03-21T15:39:51.041973Z",
     "shell.execute_reply": "2024-03-21T15:39:51.041495Z"
    }
   },
   "outputs": [
    {
     "data": {
      "text/plain": [
       "[PosixPath('../part0_python_intro/00_python_basics_review.ipynb'),\n",
       " PosixPath('../part0_python_intro/03_useful-std-library-modules.ipynb'),\n",
       " PosixPath('../part0_python_intro/05_numpy.ipynb'),\n",
       " PosixPath('../part0_python_intro/06b_matplotlib_animation.ipynb'),\n",
       " PosixPath('../part0_python_intro/09_a_Geopandas.ipynb'),\n",
       " PosixPath('../part0_python_intro/09_b_Geopandas_ABQ.ipynb'),\n",
       " PosixPath('../part0_python_intro/10_Rasterio.ipynb'),\n",
       " PosixPath('../part0_python_intro/11_xarray_mt_rainier_precip.ipynb'),\n",
       " PosixPath('../part1_flopy/01-Flopy-intro.ipynb'),\n",
       " PosixPath('../part1_flopy/05-unstructured-grids.ipynb'),\n",
       " PosixPath('../part1_flopy/08_Modflow-setup-demo.ipynb'),\n",
       " PosixPath('../part1_flopy/09-gwt-voronoi-demo.ipynb'),\n",
       " PosixPath('../part1_flopy/10_modpath_particle_tracking-demo.ipynb')]"
      ]
     },
     "execution_count": 6,
     "metadata": {},
     "output_type": "execute_result"
    }
   ],
   "source": [
    "sorted(list(cwd.glob('../*/*.ipynb')))"
   ]
  },
  {
   "cell_type": "markdown",
   "metadata": {},
   "source": [
    "**Note:** There is also a glob module in the standard python library that works directly with string paths"
   ]
  },
  {
   "cell_type": "code",
   "execution_count": 7,
   "metadata": {
    "execution": {
     "iopub.execute_input": "2024-03-21T15:39:51.043750Z",
     "iopub.status.busy": "2024-03-21T15:39:51.043466Z",
     "iopub.status.idle": "2024-03-21T15:39:51.046808Z",
     "shell.execute_reply": "2024-03-21T15:39:51.046349Z"
    }
   },
   "outputs": [
    {
     "data": {
      "text/plain": [
       "['../part0_python_intro/00_python_basics_review.ipynb',\n",
       " '../part0_python_intro/03_useful-std-library-modules.ipynb',\n",
       " '../part0_python_intro/05_numpy.ipynb',\n",
       " '../part0_python_intro/06b_matplotlib_animation.ipynb',\n",
       " '../part0_python_intro/09_a_Geopandas.ipynb',\n",
       " '../part0_python_intro/09_b_Geopandas_ABQ.ipynb',\n",
       " '../part0_python_intro/10_Rasterio.ipynb',\n",
       " '../part0_python_intro/11_xarray_mt_rainier_precip.ipynb',\n",
       " '../part1_flopy/01-Flopy-intro.ipynb',\n",
       " '../part1_flopy/05-unstructured-grids.ipynb',\n",
       " '../part1_flopy/08_Modflow-setup-demo.ipynb',\n",
       " '../part1_flopy/09-gwt-voronoi-demo.ipynb',\n",
       " '../part1_flopy/10_modpath_particle_tracking-demo.ipynb']"
      ]
     },
     "execution_count": 7,
     "metadata": {},
     "output_type": "execute_result"
    }
   ],
   "source": [
    "import glob\n",
    "sorted(list(glob.glob('../*/*.ipynb')))"
   ]
  },
  {
   "cell_type": "markdown",
   "metadata": {},
   "source": [
    "#### List just the subfolders"
   ]
  },
  {
   "cell_type": "code",
   "execution_count": 8,
   "metadata": {
    "execution": {
     "iopub.execute_input": "2024-03-21T15:39:51.048583Z",
     "iopub.status.busy": "2024-03-21T15:39:51.048240Z",
     "iopub.status.idle": "2024-03-21T15:39:51.051727Z",
     "shell.execute_reply": "2024-03-21T15:39:51.051290Z"
    }
   },
   "outputs": [
    {
     "data": {
      "text/plain": [
       "[PosixPath('data'), PosixPath('solutions')]"
      ]
     },
     "execution_count": 8,
     "metadata": {},
     "output_type": "execute_result"
    }
   ],
   "source": [
    "[f for f in cwd.iterdir() if f.is_dir()]"
   ]
  },
  {
   "cell_type": "markdown",
   "metadata": {},
   "source": [
    "#### Create a new path for the data subfolder"
   ]
  },
  {
   "cell_type": "code",
   "execution_count": 9,
   "metadata": {
    "execution": {
     "iopub.execute_input": "2024-03-21T15:39:51.053303Z",
     "iopub.status.busy": "2024-03-21T15:39:51.053160Z",
     "iopub.status.idle": "2024-03-21T15:39:51.056276Z",
     "shell.execute_reply": "2024-03-21T15:39:51.055908Z"
    }
   },
   "outputs": [
    {
     "data": {
      "text/plain": [
       "PosixPath('data')"
      ]
     },
     "execution_count": 9,
     "metadata": {},
     "output_type": "execute_result"
    }
   ],
   "source": [
    "data_path = cwd / 'data'\n",
    "data_path"
   ]
  },
  {
   "cell_type": "markdown",
   "metadata": {},
   "source": [
    "#### or an individual file"
   ]
  },
  {
   "cell_type": "code",
   "execution_count": 10,
   "metadata": {
    "execution": {
     "iopub.execute_input": "2024-03-21T15:39:51.057924Z",
     "iopub.status.busy": "2024-03-21T15:39:51.057668Z",
     "iopub.status.idle": "2024-03-21T15:39:51.060664Z",
     "shell.execute_reply": "2024-03-21T15:39:51.060305Z"
    }
   },
   "outputs": [
    {
     "data": {
      "text/plain": [
       "PosixPath('00_python_basics_review.ipynb')"
      ]
     },
     "execution_count": 10,
     "metadata": {},
     "output_type": "execute_result"
    }
   ],
   "source": [
    "f = cwd / '00_python_basics_review.ipynb'\n",
    "f"
   ]
  },
  {
   "cell_type": "markdown",
   "metadata": {},
   "source": [
    "#### check if it exists, or if it's a directory"
   ]
  },
  {
   "cell_type": "code",
   "execution_count": 11,
   "metadata": {
    "execution": {
     "iopub.execute_input": "2024-03-21T15:39:51.062441Z",
     "iopub.status.busy": "2024-03-21T15:39:51.062100Z",
     "iopub.status.idle": "2024-03-21T15:39:51.065486Z",
     "shell.execute_reply": "2024-03-21T15:39:51.065040Z"
    }
   },
   "outputs": [
    {
     "data": {
      "text/plain": [
       "(True, False)"
      ]
     },
     "execution_count": 11,
     "metadata": {},
     "output_type": "execute_result"
    }
   ],
   "source": [
    "f.exists(), f.is_dir()"
   ]
  },
  {
   "cell_type": "markdown",
   "metadata": {},
   "source": [
    "### Creating files and folders\n",
    "\n",
    "#### make a new subdirectory"
   ]
  },
  {
   "cell_type": "code",
   "execution_count": 12,
   "metadata": {
    "execution": {
     "iopub.execute_input": "2024-03-21T15:39:51.067173Z",
     "iopub.status.busy": "2024-03-21T15:39:51.066874Z",
     "iopub.status.idle": "2024-03-21T15:39:51.070029Z",
     "shell.execute_reply": "2024-03-21T15:39:51.069587Z"
    }
   },
   "outputs": [
    {
     "data": {
      "text/plain": [
       "PosixPath('more_files')"
      ]
     },
     "execution_count": 12,
     "metadata": {},
     "output_type": "execute_result"
    }
   ],
   "source": [
    "new_folder = cwd / 'more_files'\n",
    "new_folder"
   ]
  },
  {
   "cell_type": "code",
   "execution_count": 13,
   "metadata": {
    "execution": {
     "iopub.execute_input": "2024-03-21T15:39:51.071763Z",
     "iopub.status.busy": "2024-03-21T15:39:51.071411Z",
     "iopub.status.idle": "2024-03-21T15:39:51.074578Z",
     "shell.execute_reply": "2024-03-21T15:39:51.074130Z"
    }
   },
   "outputs": [
    {
     "data": {
      "text/plain": [
       "False"
      ]
     },
     "execution_count": 13,
     "metadata": {},
     "output_type": "execute_result"
    }
   ],
   "source": [
    "new_folder.exists()"
   ]
  },
  {
   "cell_type": "code",
   "execution_count": 14,
   "metadata": {
    "execution": {
     "iopub.execute_input": "2024-03-21T15:39:51.076333Z",
     "iopub.status.busy": "2024-03-21T15:39:51.075999Z",
     "iopub.status.idle": "2024-03-21T15:39:51.079236Z",
     "shell.execute_reply": "2024-03-21T15:39:51.078777Z"
    }
   },
   "outputs": [
    {
     "data": {
      "text/plain": [
       "True"
      ]
     },
     "execution_count": 14,
     "metadata": {},
     "output_type": "execute_result"
    }
   ],
   "source": [
    "new_folder.mkdir(); new_folder.exists()"
   ]
  },
  {
   "cell_type": "markdown",
   "metadata": {},
   "source": [
    "Note that if you try to run the above cell twice, you'll get an error that the folder already exists\n",
    "``exist_ok=True`` supresses these errors."
   ]
  },
  {
   "cell_type": "code",
   "execution_count": 15,
   "metadata": {
    "execution": {
     "iopub.execute_input": "2024-03-21T15:39:51.080989Z",
     "iopub.status.busy": "2024-03-21T15:39:51.080645Z",
     "iopub.status.idle": "2024-03-21T15:39:51.083082Z",
     "shell.execute_reply": "2024-03-21T15:39:51.082593Z"
    }
   },
   "outputs": [],
   "source": [
    "new_folder.mkdir(exist_ok=True)"
   ]
  },
  {
   "cell_type": "markdown",
   "metadata": {},
   "source": [
    "#### make a new subfolder within a new subfolder\n",
    "The ``parents=True`` argument allows for making subfolders within new subfolders"
   ]
  },
  {
   "cell_type": "code",
   "execution_count": 16,
   "metadata": {
    "execution": {
     "iopub.execute_input": "2024-03-21T15:39:51.084800Z",
     "iopub.status.busy": "2024-03-21T15:39:51.084453Z",
     "iopub.status.idle": "2024-03-21T15:39:51.086788Z",
     "shell.execute_reply": "2024-03-21T15:39:51.086425Z"
    }
   },
   "outputs": [],
   "source": [
    "(new_folder / 'subfolder').mkdir(exist_ok=True, parents=True)"
   ]
  },
  {
   "cell_type": "markdown",
   "metadata": {},
   "source": [
    "### absolute vs. relative pathing\n",
    "\n",
    "Get the absolute location of the current working directory"
   ]
  },
  {
   "cell_type": "code",
   "execution_count": 17,
   "metadata": {
    "execution": {
     "iopub.execute_input": "2024-03-21T15:39:51.088691Z",
     "iopub.status.busy": "2024-03-21T15:39:51.088256Z",
     "iopub.status.idle": "2024-03-21T15:39:51.091552Z",
     "shell.execute_reply": "2024-03-21T15:39:51.091100Z"
    }
   },
   "outputs": [
    {
     "data": {
      "text/plain": [
       "PosixPath('/home/runner/work/python-for-hydrology/python-for-hydrology/docs/source/notebooks/part0_python_intro')"
      ]
     },
     "execution_count": 17,
     "metadata": {},
     "output_type": "execute_result"
    }
   ],
   "source": [
    "abs_cwd = Path.cwd()\n",
    "abs_cwd"
   ]
  },
  {
   "cell_type": "markdown",
   "metadata": {},
   "source": [
    "Go up two levels to the course repository"
   ]
  },
  {
   "cell_type": "code",
   "execution_count": 18,
   "metadata": {
    "execution": {
     "iopub.execute_input": "2024-03-21T15:39:51.093430Z",
     "iopub.status.busy": "2024-03-21T15:39:51.093073Z",
     "iopub.status.idle": "2024-03-21T15:39:51.096236Z",
     "shell.execute_reply": "2024-03-21T15:39:51.095760Z"
    }
   },
   "outputs": [
    {
     "data": {
      "text/plain": [
       "PosixPath('/home/runner/work/python-for-hydrology/python-for-hydrology/docs/source/notebooks/part0_python_intro/../..')"
      ]
     },
     "execution_count": 18,
     "metadata": {},
     "output_type": "execute_result"
    }
   ],
   "source": [
    "class_root = (abs_cwd / '../../')\n",
    "class_root"
   ]
  },
  {
   "cell_type": "markdown",
   "metadata": {},
   "source": [
    "Simplify or resolve the path"
   ]
  },
  {
   "cell_type": "code",
   "execution_count": 19,
   "metadata": {
    "execution": {
     "iopub.execute_input": "2024-03-21T15:39:51.098027Z",
     "iopub.status.busy": "2024-03-21T15:39:51.097675Z",
     "iopub.status.idle": "2024-03-21T15:39:51.101155Z",
     "shell.execute_reply": "2024-03-21T15:39:51.100779Z"
    }
   },
   "outputs": [
    {
     "data": {
      "text/plain": [
       "PosixPath('/home/runner/work/python-for-hydrology/python-for-hydrology/docs/source')"
      ]
     },
     "execution_count": 19,
     "metadata": {},
     "output_type": "execute_result"
    }
   ],
   "source": [
    "class_root = class_root.resolve()\n",
    "class_root"
   ]
  },
  {
   "cell_type": "markdown",
   "metadata": {},
   "source": [
    "Get the cwd relative to the course repository"
   ]
  },
  {
   "cell_type": "code",
   "execution_count": 20,
   "metadata": {
    "execution": {
     "iopub.execute_input": "2024-03-21T15:39:51.102748Z",
     "iopub.status.busy": "2024-03-21T15:39:51.102603Z",
     "iopub.status.idle": "2024-03-21T15:39:51.105704Z",
     "shell.execute_reply": "2024-03-21T15:39:51.105260Z"
    }
   },
   "outputs": [
    {
     "data": {
      "text/plain": [
       "PosixPath('notebooks/part0_python_intro')"
      ]
     },
     "execution_count": 20,
     "metadata": {},
     "output_type": "execute_result"
    }
   ],
   "source": [
    "abs_cwd.relative_to(class_root)"
   ]
  },
  {
   "cell_type": "markdown",
   "metadata": {},
   "source": [
    "check if this is an absolute or relative path"
   ]
  },
  {
   "cell_type": "code",
   "execution_count": 21,
   "metadata": {
    "execution": {
     "iopub.execute_input": "2024-03-21T15:39:51.107323Z",
     "iopub.status.busy": "2024-03-21T15:39:51.107177Z",
     "iopub.status.idle": "2024-03-21T15:39:51.110236Z",
     "shell.execute_reply": "2024-03-21T15:39:51.109793Z"
    }
   },
   "outputs": [
    {
     "data": {
      "text/plain": [
       "False"
      ]
     },
     "execution_count": 21,
     "metadata": {},
     "output_type": "execute_result"
    }
   ],
   "source": [
    "abs_cwd.relative_to(class_root).is_absolute()"
   ]
  },
  {
   "cell_type": "code",
   "execution_count": 22,
   "metadata": {
    "execution": {
     "iopub.execute_input": "2024-03-21T15:39:51.112016Z",
     "iopub.status.busy": "2024-03-21T15:39:51.111782Z",
     "iopub.status.idle": "2024-03-21T15:39:51.114878Z",
     "shell.execute_reply": "2024-03-21T15:39:51.114429Z"
    }
   },
   "outputs": [
    {
     "data": {
      "text/plain": [
       "True"
      ]
     },
     "execution_count": 22,
     "metadata": {},
     "output_type": "execute_result"
    }
   ],
   "source": [
    "abs_cwd.is_absolute()"
   ]
  },
  {
   "cell_type": "markdown",
   "metadata": {},
   "source": [
    "**gottcha:** `Path.relative_to()` only works when the first path is a subpath of the second path, or if both paths are aboslute\n",
    "\n",
    "For example, try executing this line: \n",
    "\n",
    "```python\n",
    "Path('../part1_flopy/').relative_to('data')\n",
    "```"
   ]
  },
  {
   "cell_type": "markdown",
   "metadata": {},
   "source": [
    "If you need a relative path that will work robustly in a script, `os.path.relpath` might be a better choice"
   ]
  },
  {
   "cell_type": "code",
   "execution_count": 23,
   "metadata": {
    "execution": {
     "iopub.execute_input": "2024-03-21T15:39:51.116673Z",
     "iopub.status.busy": "2024-03-21T15:39:51.116440Z",
     "iopub.status.idle": "2024-03-21T15:39:51.119598Z",
     "shell.execute_reply": "2024-03-21T15:39:51.119142Z"
    }
   },
   "outputs": [
    {
     "data": {
      "text/plain": [
       "'../../part1_flopy'"
      ]
     },
     "execution_count": 23,
     "metadata": {},
     "output_type": "execute_result"
    }
   ],
   "source": [
    "os.path.relpath('../part1_flopy/', 'data')"
   ]
  },
  {
   "cell_type": "code",
   "execution_count": 24,
   "metadata": {
    "execution": {
     "iopub.execute_input": "2024-03-21T15:39:51.121334Z",
     "iopub.status.busy": "2024-03-21T15:39:51.120953Z",
     "iopub.status.idle": "2024-03-21T15:39:51.124243Z",
     "shell.execute_reply": "2024-03-21T15:39:51.123800Z"
    }
   },
   "outputs": [
    {
     "data": {
      "text/plain": [
       "'../part0_python_intro/data'"
      ]
     },
     "execution_count": 24,
     "metadata": {},
     "output_type": "execute_result"
    }
   ],
   "source": [
    "os.path.relpath('data', '../part1_flopy/')"
   ]
  },
  {
   "cell_type": "markdown",
   "metadata": {},
   "source": [
    "### useful attributes"
   ]
  },
  {
   "cell_type": "code",
   "execution_count": 25,
   "metadata": {
    "execution": {
     "iopub.execute_input": "2024-03-21T15:39:51.126039Z",
     "iopub.status.busy": "2024-03-21T15:39:51.125656Z",
     "iopub.status.idle": "2024-03-21T15:39:51.128785Z",
     "shell.execute_reply": "2024-03-21T15:39:51.128323Z"
    }
   },
   "outputs": [
    {
     "data": {
      "text/plain": [
       "PosixPath('/home/runner/work/python-for-hydrology/python-for-hydrology/docs/source/notebooks')"
      ]
     },
     "execution_count": 25,
     "metadata": {},
     "output_type": "execute_result"
    }
   ],
   "source": [
    "abs_cwd.parent"
   ]
  },
  {
   "cell_type": "code",
   "execution_count": 26,
   "metadata": {
    "execution": {
     "iopub.execute_input": "2024-03-21T15:39:51.130634Z",
     "iopub.status.busy": "2024-03-21T15:39:51.130278Z",
     "iopub.status.idle": "2024-03-21T15:39:51.133562Z",
     "shell.execute_reply": "2024-03-21T15:39:51.133112Z"
    }
   },
   "outputs": [
    {
     "data": {
      "text/plain": [
       "PosixPath('/home/runner/work/python-for-hydrology/python-for-hydrology/docs/source')"
      ]
     },
     "execution_count": 26,
     "metadata": {},
     "output_type": "execute_result"
    }
   ],
   "source": [
    "abs_cwd.parent.parent"
   ]
  },
  {
   "cell_type": "code",
   "execution_count": 27,
   "metadata": {
    "execution": {
     "iopub.execute_input": "2024-03-21T15:39:51.135374Z",
     "iopub.status.busy": "2024-03-21T15:39:51.135015Z",
     "iopub.status.idle": "2024-03-21T15:39:51.138172Z",
     "shell.execute_reply": "2024-03-21T15:39:51.137788Z"
    }
   },
   "outputs": [
    {
     "data": {
      "text/plain": [
       "'00_python_basics_review.ipynb'"
      ]
     },
     "execution_count": 27,
     "metadata": {},
     "output_type": "execute_result"
    }
   ],
   "source": [
    "f.name"
   ]
  },
  {
   "cell_type": "code",
   "execution_count": 28,
   "metadata": {
    "execution": {
     "iopub.execute_input": "2024-03-21T15:39:51.139727Z",
     "iopub.status.busy": "2024-03-21T15:39:51.139593Z",
     "iopub.status.idle": "2024-03-21T15:39:51.142455Z",
     "shell.execute_reply": "2024-03-21T15:39:51.142049Z"
    }
   },
   "outputs": [
    {
     "data": {
      "text/plain": [
       "'.ipynb'"
      ]
     },
     "execution_count": 28,
     "metadata": {},
     "output_type": "execute_result"
    }
   ],
   "source": [
    "f.suffix"
   ]
  },
  {
   "cell_type": "code",
   "execution_count": 29,
   "metadata": {
    "execution": {
     "iopub.execute_input": "2024-03-21T15:39:51.144013Z",
     "iopub.status.busy": "2024-03-21T15:39:51.143880Z",
     "iopub.status.idle": "2024-03-21T15:39:51.146795Z",
     "shell.execute_reply": "2024-03-21T15:39:51.146391Z"
    }
   },
   "outputs": [
    {
     "data": {
      "text/plain": [
       "PosixPath('00_python_basics_review.junk')"
      ]
     },
     "execution_count": 29,
     "metadata": {},
     "output_type": "execute_result"
    }
   ],
   "source": [
    "f.with_suffix('.junk')"
   ]
  },
  {
   "cell_type": "code",
   "execution_count": 30,
   "metadata": {
    "execution": {
     "iopub.execute_input": "2024-03-21T15:39:51.148435Z",
     "iopub.status.busy": "2024-03-21T15:39:51.148191Z",
     "iopub.status.idle": "2024-03-21T15:39:51.151242Z",
     "shell.execute_reply": "2024-03-21T15:39:51.150758Z"
    }
   },
   "outputs": [
    {
     "data": {
      "text/plain": [
       "'00_python_basics_review'"
      ]
     },
     "execution_count": 30,
     "metadata": {},
     "output_type": "execute_result"
    }
   ],
   "source": [
    "f.stem"
   ]
  },
  {
   "cell_type": "markdown",
   "metadata": {},
   "source": [
    "### Moving and deleting files\n",
    "\n",
    "Make a file"
   ]
  },
  {
   "cell_type": "code",
   "execution_count": 31,
   "metadata": {
    "execution": {
     "iopub.execute_input": "2024-03-21T15:39:51.152926Z",
     "iopub.status.busy": "2024-03-21T15:39:51.152654Z",
     "iopub.status.idle": "2024-03-21T15:39:51.155162Z",
     "shell.execute_reply": "2024-03-21T15:39:51.154755Z"
    }
   },
   "outputs": [],
   "source": [
    "fname = Path('new_file.txt')\n",
    "with open(fname, 'w') as dest:\n",
    "    dest.write(\"A new text file.\")"
   ]
  },
  {
   "cell_type": "code",
   "execution_count": 32,
   "metadata": {
    "execution": {
     "iopub.execute_input": "2024-03-21T15:39:51.156914Z",
     "iopub.status.busy": "2024-03-21T15:39:51.156627Z",
     "iopub.status.idle": "2024-03-21T15:39:51.159816Z",
     "shell.execute_reply": "2024-03-21T15:39:51.159353Z"
    }
   },
   "outputs": [
    {
     "data": {
      "text/plain": [
       "True"
      ]
     },
     "execution_count": 32,
     "metadata": {},
     "output_type": "execute_result"
    }
   ],
   "source": [
    "fname.exists()"
   ]
  },
  {
   "cell_type": "markdown",
   "metadata": {},
   "source": [
    "Move the file"
   ]
  },
  {
   "cell_type": "code",
   "execution_count": 33,
   "metadata": {
    "execution": {
     "iopub.execute_input": "2024-03-21T15:39:51.161587Z",
     "iopub.status.busy": "2024-03-21T15:39:51.161236Z",
     "iopub.status.idle": "2024-03-21T15:39:51.164480Z",
     "shell.execute_reply": "2024-03-21T15:39:51.164051Z"
    }
   },
   "outputs": [
    {
     "data": {
      "text/plain": [
       "PosixPath('new_file2.txt')"
      ]
     },
     "execution_count": 33,
     "metadata": {},
     "output_type": "execute_result"
    }
   ],
   "source": [
    "fname2 = Path('new_file2.txt')\n",
    "fname.rename(fname2)"
   ]
  },
  {
   "cell_type": "code",
   "execution_count": 34,
   "metadata": {
    "execution": {
     "iopub.execute_input": "2024-03-21T15:39:51.166245Z",
     "iopub.status.busy": "2024-03-21T15:39:51.165901Z",
     "iopub.status.idle": "2024-03-21T15:39:51.169018Z",
     "shell.execute_reply": "2024-03-21T15:39:51.168575Z"
    }
   },
   "outputs": [
    {
     "data": {
      "text/plain": [
       "False"
      ]
     },
     "execution_count": 34,
     "metadata": {},
     "output_type": "execute_result"
    }
   ],
   "source": [
    "fname.exists()"
   ]
  },
  {
   "cell_type": "markdown",
   "metadata": {},
   "source": [
    "Delete the file"
   ]
  },
  {
   "cell_type": "code",
   "execution_count": 35,
   "metadata": {
    "execution": {
     "iopub.execute_input": "2024-03-21T15:39:51.170853Z",
     "iopub.status.busy": "2024-03-21T15:39:51.170466Z",
     "iopub.status.idle": "2024-03-21T15:39:51.172857Z",
     "shell.execute_reply": "2024-03-21T15:39:51.172416Z"
    }
   },
   "outputs": [],
   "source": [
    "fname2.unlink()"
   ]
  },
  {
   "cell_type": "code",
   "execution_count": 36,
   "metadata": {
    "execution": {
     "iopub.execute_input": "2024-03-21T15:39:51.174566Z",
     "iopub.status.busy": "2024-03-21T15:39:51.174215Z",
     "iopub.status.idle": "2024-03-21T15:39:51.177263Z",
     "shell.execute_reply": "2024-03-21T15:39:51.176829Z"
    }
   },
   "outputs": [
    {
     "data": {
      "text/plain": [
       "False"
      ]
     },
     "execution_count": 36,
     "metadata": {},
     "output_type": "execute_result"
    }
   ],
   "source": [
    "fname2.exists()"
   ]
  },
  {
   "cell_type": "markdown",
   "metadata": {},
   "source": [
    "#### Delete the empty folder we made above\n",
    "Note: this only works for empty directories (use ``shutil.rmtree()`` very carefully for removing folders and all contents within)"
   ]
  },
  {
   "cell_type": "code",
   "execution_count": 37,
   "metadata": {
    "execution": {
     "iopub.execute_input": "2024-03-21T15:39:51.178917Z",
     "iopub.status.busy": "2024-03-21T15:39:51.178654Z",
     "iopub.status.idle": "2024-03-21T15:39:51.180873Z",
     "shell.execute_reply": "2024-03-21T15:39:51.180508Z"
    }
   },
   "outputs": [],
   "source": [
    "Path('more_files/subfolder/').rmdir()"
   ]
  },
  {
   "cell_type": "markdown",
   "metadata": {},
   "source": [
    "## ``shutil`` — High-level file operations\n",
    "module for copying, moving, and deleting files and directories.\n",
    "\n",
    "https://docs.python.org/3/library/shutil.html\n",
    "\n",
    "The functions from shutil that you may find useful are:\n",
    "\n",
    "    shutil.copy()\n",
    "    shutil.copy2()  # this preserves most metadata (i.e. dates); unlike copy()\n",
    "    shutil.copytree()\n",
    "    shutil.move()\n",
    "    shutil.rmtree()  #obviously, you need to be careful with this one!\n",
    "    \n",
    "Give these guys a shot and see what they do.  Remember, you can always get help by typing:\n",
    "\n",
    "    help(shutil.copy)\n"
   ]
  },
  {
   "cell_type": "code",
   "execution_count": 38,
   "metadata": {
    "execution": {
     "iopub.execute_input": "2024-03-21T15:39:51.182629Z",
     "iopub.status.busy": "2024-03-21T15:39:51.182345Z",
     "iopub.status.idle": "2024-03-21T15:39:51.184296Z",
     "shell.execute_reply": "2024-03-21T15:39:51.183924Z"
    }
   },
   "outputs": [],
   "source": [
    "#try them here.  Be careful!"
   ]
  },
  {
   "cell_type": "code",
   "execution_count": 39,
   "metadata": {
    "execution": {
     "iopub.execute_input": "2024-03-21T15:39:51.186129Z",
     "iopub.status.busy": "2024-03-21T15:39:51.185697Z",
     "iopub.status.idle": "2024-03-21T15:39:51.188331Z",
     "shell.execute_reply": "2024-03-21T15:39:51.187967Z"
    }
   },
   "outputs": [],
   "source": [
    "shutil.rmtree(new_folder)"
   ]
  },
  {
   "cell_type": "markdown",
   "metadata": {},
   "source": [
    "## ``sys`` — System-specific parameters and functions\n",
    "\n",
    "### Getting information about python and the os\n",
    "where python is installed"
   ]
  },
  {
   "cell_type": "code",
   "execution_count": 40,
   "metadata": {
    "execution": {
     "iopub.execute_input": "2024-03-21T15:39:51.190017Z",
     "iopub.status.busy": "2024-03-21T15:39:51.189729Z",
     "iopub.status.idle": "2024-03-21T15:39:51.192320Z",
     "shell.execute_reply": "2024-03-21T15:39:51.191934Z"
    }
   },
   "outputs": [
    {
     "name": "stdout",
     "output_type": "stream",
     "text": [
      "/home/runner/micromamba/envs/pyclass-docs\n"
     ]
    }
   ],
   "source": [
    "print(sys.prefix)"
   ]
  },
  {
   "cell_type": "code",
   "execution_count": 41,
   "metadata": {
    "execution": {
     "iopub.execute_input": "2024-03-21T15:39:51.194004Z",
     "iopub.status.busy": "2024-03-21T15:39:51.193718Z",
     "iopub.status.idle": "2024-03-21T15:39:51.196178Z",
     "shell.execute_reply": "2024-03-21T15:39:51.195746Z"
    }
   },
   "outputs": [
    {
     "name": "stdout",
     "output_type": "stream",
     "text": [
      "sys.version_info(major=3, minor=11, micro=8, releaselevel='final', serial=0)\n"
     ]
    }
   ],
   "source": [
    "print(sys.version_info)"
   ]
  },
  {
   "cell_type": "code",
   "execution_count": 42,
   "metadata": {
    "execution": {
     "iopub.execute_input": "2024-03-21T15:39:51.197917Z",
     "iopub.status.busy": "2024-03-21T15:39:51.197570Z",
     "iopub.status.idle": "2024-03-21T15:39:51.200642Z",
     "shell.execute_reply": "2024-03-21T15:39:51.200209Z"
    }
   },
   "outputs": [
    {
     "data": {
      "text/plain": [
       "'linux'"
      ]
     },
     "execution_count": 42,
     "metadata": {},
     "output_type": "execute_result"
    }
   ],
   "source": [
    "sys.platform"
   ]
  },
  {
   "cell_type": "markdown",
   "metadata": {},
   "source": [
    "### Adding command line arguments to a script\n",
    "Here the command line arguments reflect that we're running a Juptyer Notebook. \n",
    "\n",
    "In a python script, command line arguments are listed after the first item in the list."
   ]
  },
  {
   "cell_type": "code",
   "execution_count": 43,
   "metadata": {
    "execution": {
     "iopub.execute_input": "2024-03-21T15:39:51.202286Z",
     "iopub.status.busy": "2024-03-21T15:39:51.202023Z",
     "iopub.status.idle": "2024-03-21T15:39:51.205041Z",
     "shell.execute_reply": "2024-03-21T15:39:51.204601Z"
    }
   },
   "outputs": [
    {
     "data": {
      "text/plain": [
       "['/home/runner/micromamba/envs/pyclass-docs/lib/python3.11/site-packages/ipykernel_launcher.py',\n",
       " '-f',\n",
       " '/tmp/tmpukrm3ogw.json',\n",
       " '--HistoryManager.hist_file=:memory:']"
      ]
     },
     "execution_count": 43,
     "metadata": {},
     "output_type": "execute_result"
    }
   ],
   "source": [
    "sys.argv"
   ]
  },
  {
   "cell_type": "markdown",
   "metadata": {
    "jp-MarkdownHeadingCollapsed": true
   },
   "source": [
    "### Exercise: Make a script with a command line argument using sys.argv\n",
    "\n",
    "1) Using a text editor such as VSCode, make a new ``*.py`` file with the following contents:\n",
    "\n",
    "```python\n",
    "import sys\n",
    "\n",
    "if len(sys.argv) > 1:\n",
    "    for argument in sys.argv[1:]:\n",
    "        print(argument)\n",
    "else:\n",
    "    print(\"usage is: python <script name>.py argument\")\n",
    "    quit()\n",
    "```\n",
    "\n",
    "2) Try running the script at the command line"
   ]
  },
  {
   "cell_type": "markdown",
   "metadata": {},
   "source": [
    "### modifying the python path\n",
    "\n",
    "If you haven't seen `sys.path` already mentioned in a python script, you will soon.  `sys.path` is a list of directories.  This path list is used by python to search for python modules and packages.  If for some reason, you want to use a python package or  module that is not installed in the main python folder, you can add the directory containing your module to sys.path.\n",
    "\n",
    "Any packages installed by linking the source code in place (i.e. ``pip install -e .`` will also show up here."
   ]
  },
  {
   "cell_type": "code",
   "execution_count": 44,
   "metadata": {
    "execution": {
     "iopub.execute_input": "2024-03-21T15:39:51.206814Z",
     "iopub.status.busy": "2024-03-21T15:39:51.206479Z",
     "iopub.status.idle": "2024-03-21T15:39:51.208989Z",
     "shell.execute_reply": "2024-03-21T15:39:51.208551Z"
    }
   },
   "outputs": [
    {
     "name": "stdout",
     "output_type": "stream",
     "text": [
      "/home/runner/micromamba/envs/pyclass-docs/lib/python311.zip\n",
      "/home/runner/micromamba/envs/pyclass-docs/lib/python3.11\n",
      "/home/runner/micromamba/envs/pyclass-docs/lib/python3.11/lib-dynload\n",
      "\n",
      "/home/runner/micromamba/envs/pyclass-docs/lib/python3.11/site-packages\n"
     ]
    }
   ],
   "source": [
    "for pth in sys.path:\n",
    "    print(pth)"
   ]
  },
  {
   "cell_type": "markdown",
   "metadata": {},
   "source": [
    "### Using ``sys.path`` to import code from an arbitrary location\n",
    "\n",
    "1) Using a text editor such as VSCode (or ``pathlib`` and python) make a new ``*.py`` file in another folder (anything in the same folder as this notebook can already be imported). For example:"
   ]
  },
  {
   "cell_type": "code",
   "execution_count": 45,
   "metadata": {
    "execution": {
     "iopub.execute_input": "2024-03-21T15:39:51.210562Z",
     "iopub.status.busy": "2024-03-21T15:39:51.210418Z",
     "iopub.status.idle": "2024-03-21T15:39:51.213413Z",
     "shell.execute_reply": "2024-03-21T15:39:51.212983Z"
    }
   },
   "outputs": [],
   "source": [
    "subfolder = Path('another_subfolder/scripts')\n",
    "subfolder.mkdir(exist_ok=True, parents=True)\n",
    "\n",
    "with open(subfolder / 'mycode.py', 'w') as dest:\n",
    "    dest.write(\"stuff = {'this is': 'a dictionary'}\")"
   ]
  },
  {
   "cell_type": "markdown",
   "metadata": {},
   "source": [
    "Now add this folder to the python path"
   ]
  },
  {
   "cell_type": "code",
   "execution_count": 46,
   "metadata": {
    "execution": {
     "iopub.execute_input": "2024-03-21T15:39:51.215093Z",
     "iopub.status.busy": "2024-03-21T15:39:51.214808Z",
     "iopub.status.idle": "2024-03-21T15:39:51.217070Z",
     "shell.execute_reply": "2024-03-21T15:39:51.216635Z"
    }
   },
   "outputs": [],
   "source": [
    "sys.path.append('another_subfolder/scripts')"
   ]
  },
  {
   "cell_type": "markdown",
   "metadata": {},
   "source": [
    "Code can be imported by calling the containing module"
   ]
  },
  {
   "cell_type": "code",
   "execution_count": 47,
   "metadata": {
    "execution": {
     "iopub.execute_input": "2024-03-21T15:39:51.218947Z",
     "iopub.status.busy": "2024-03-21T15:39:51.218613Z",
     "iopub.status.idle": "2024-03-21T15:39:51.222175Z",
     "shell.execute_reply": "2024-03-21T15:39:51.221753Z"
    }
   },
   "outputs": [
    {
     "data": {
      "text/plain": [
       "{'this is': 'a dictionary'}"
      ]
     },
     "execution_count": 47,
     "metadata": {},
     "output_type": "execute_result"
    }
   ],
   "source": [
    "from mycode import stuff\n",
    "\n",
    "stuff"
   ]
  },
  {
   "cell_type": "markdown",
   "metadata": {},
   "source": [
    "**Note**: Generally, importing code using ``sys.path`` is considered bad practice, because \n",
    "\n",
    "* it can hide dependencies.    \n",
    "\n",
    "    * from the information above, we don't know whether ``mycode`` is a package that is installed, a module in the current folder, or anywhere else for that matter.\n",
    "    * Similarly, we know that any modules from ``'another_subfolder/scripts'`` can be imported, but we don't know which modules in that folder are needed without some additional checking.\n",
    "\n",
    "* importing code using ``sys.path`` is also sensitive to the location of the script relative to the path. If the script is moved or used on someone else's computer with a different file structure, it'll break.\n",
    "\n",
    "In general, [installing reusable code in a package is the best way to go](https://nsls-ii.github.io/scientific-python-cookiecutter/). Packages provide a framework for organizing, documenting, testing and sharing code in a way that is easily understood by others.\n",
    "\n",
    "Whatever you do, avoid importing with an `*` (i.e. ``from mycode import *``) at all costs. This imports everything from the namespace of a module, which can lead to unintended consequences."
   ]
  },
  {
   "cell_type": "markdown",
   "metadata": {},
   "source": [
    "## ``os`` — Miscellaneous operating system interfaces¶\n",
    "Historically, the ``os.path`` module was the de facto standard for file and path manipulation. Since python 3.4 however, ``pathlib`` is generally cleaner and easier to use for most of these operations. But there are some exceptions.\n",
    "\n",
    "### Changing the current working directory\n",
    "``pathlib`` doesn't do this.   \n",
    "Note: this can obviously lead to trouble in scripts, so should usually be avoided, but sometimes it is necessary."
   ]
  },
  {
   "cell_type": "code",
   "execution_count": 48,
   "metadata": {
    "execution": {
     "iopub.execute_input": "2024-03-21T15:39:51.223881Z",
     "iopub.status.busy": "2024-03-21T15:39:51.223628Z",
     "iopub.status.idle": "2024-03-21T15:39:51.226662Z",
     "shell.execute_reply": "2024-03-21T15:39:51.226228Z"
    }
   },
   "outputs": [
    {
     "name": "stdout",
     "output_type": "stream",
     "text": [
      "Now in:  /home/runner/work/python-for-hydrology/python-for-hydrology/docs/source/notebooks\n",
      "Switched back to:  /home/runner/work/python-for-hydrology/python-for-hydrology/docs/source/notebooks/part0_python_intro\n"
     ]
    }
   ],
   "source": [
    "# Example of changing the working directory\n",
    "old_wd = os.getcwd()\n",
    "\n",
    "# Go up one directory\n",
    "os.chdir('..')\n",
    "cwd = os.getcwd()\n",
    "print ('Now in: ', cwd)\n",
    "\n",
    "# Change back to original\n",
    "os.chdir(old_wd)\n",
    "cwd = os.getcwd()\n",
    "print('Switched back to: ', cwd)"
   ]
  },
  {
   "cell_type": "markdown",
   "metadata": {},
   "source": [
    "### os.walk\n",
    "\n",
    "os.walk() is a great way to recursively generate all the file names and folders in a directory.  The following shows how it can be used to identify large directories."
   ]
  },
  {
   "cell_type": "code",
   "execution_count": 49,
   "metadata": {
    "execution": {
     "iopub.execute_input": "2024-03-21T15:39:51.228453Z",
     "iopub.status.busy": "2024-03-21T15:39:51.228088Z",
     "iopub.status.idle": "2024-03-21T15:39:51.235412Z",
     "shell.execute_reply": "2024-03-21T15:39:51.234986Z"
    }
   },
   "outputs": [
    {
     "data": {
      "text/plain": [
       "[('..', ['part0_python_intro', 'part1_flopy'], []),\n",
       " ('../part0_python_intro',\n",
       "  ['data', 'solutions', 'another_subfolder'],\n",
       "  ['03_useful-std-library-modules.ipynb',\n",
       "   '09_b_Geopandas_ABQ.ipynb',\n",
       "   '09_a_Geopandas.ipynb',\n",
       "   '10_Rasterio.ipynb',\n",
       "   '06b_matplotlib_animation.ipynb',\n",
       "   '07b_VSCode.md',\n",
       "   '11_xarray_mt_rainier_precip.ipynb',\n",
       "   '05_numpy.ipynb',\n",
       "   '00_python_basics_review.ipynb']),\n",
       " ('../part0_python_intro/data',\n",
       "  ['numpy', 'rasterio', 'xarray', 'geopandas', 'pandas', 'fileio'],\n",
       "  ['dream.txt', 'netcdf_data.zip', 'theis_charles_vernon.jpg']),\n",
       " ('../part0_python_intro/data/numpy',\n",
       "  [],\n",
       "  ['mt_st_helens_after.dat',\n",
       "   'bottom.dat',\n",
       "   'ahf.csv',\n",
       "   'mt_st_helens_before.dat',\n",
       "   'bottom_commented.dat',\n",
       "   'bottom.txt']),\n",
       " ('../part0_python_intro/data/rasterio',\n",
       "  [],\n",
       "  ['rgi60_glacierpoly_rainier.shx',\n",
       "   '20150818_rainier_summer-tile-30.tif',\n",
       "   '19700901_ned1_2003_adj_warp.tif',\n",
       "   'rgi60_glacierpoly_rainier.prj',\n",
       "   'rgi60_glacierpoly_rainier.shp',\n",
       "   '20080901_rainierlidar_30m-adj.tif',\n",
       "   'rgi60_glacierpoly_rainier.dbf']),\n",
       " ('../part0_python_intro/data/xarray',\n",
       "  [],\n",
       "  ['daymet_prcp_rainier_1980-2018.nc',\n",
       "   'aligned-19700901_ned1_2003_adj_4269.tif']),\n",
       " ('../part0_python_intro/data/geopandas',\n",
       "  ['abq'],\n",
       "  ['Street_Trees.geojson',\n",
       "   'Madison_Parks.geojson',\n",
       "   'Madison_Tree_Species_Lookup.xlsx',\n",
       "   'Neighborhood_Associations.geojson']),\n",
       " ('../part0_python_intro/data/geopandas/abq',\n",
       "  [],\n",
       "  ['zoneatlaspagegrid.kmz', 'abq_films.geojson']),\n",
       " ('../part0_python_intro/data/pandas',\n",
       "  [],\n",
       "  ['RR_gage_data.csv',\n",
       "   'RussianRiverGWsites.csv',\n",
       "   'site_info.csv',\n",
       "   'panda.jpg',\n",
       "   'stock_russian.jpg',\n",
       "   'santa_rosa_CIMIS_83.csv']),\n",
       " ('../part0_python_intro/data/fileio',\n",
       "  [],\n",
       "  ['friends.txt', 'FileWithComments.txt']),\n",
       " ('../part0_python_intro/solutions',\n",
       "  [],\n",
       "  ['01_functions_script__solution.ipynb',\n",
       "   '03_useful-std-library-modules-solutions.ipynb',\n",
       "   '09_Geopandas__solutions.ipynb',\n",
       "   '08_pandas.ipynb',\n",
       "   '04_files_and_strings.ipynb',\n",
       "   '02_Namespace_objects_modules_packages__solution.ipynb',\n",
       "   '07a_Theis-exercise-solution.ipynb',\n",
       "   '06_matplotlib__solution.ipynb',\n",
       "   '05_numpy__solutions.ipynb']),\n",
       " ('../part0_python_intro/another_subfolder', ['scripts'], []),\n",
       " ('../part0_python_intro/another_subfolder/scripts',\n",
       "  ['__pycache__'],\n",
       "  ['mycode.py']),\n",
       " ('../part0_python_intro/another_subfolder/scripts/__pycache__',\n",
       "  [],\n",
       "  ['mycode.cpython-311.pyc']),\n",
       " ('../part1_flopy',\n",
       "  ['data', 'data_project', 'solutions'],\n",
       "  ['10_modpath_particle_tracking-demo.ipynb',\n",
       "   'basin.py',\n",
       "   '05-unstructured-grids.ipynb',\n",
       "   '08_Modflow-setup-demo.ipynb',\n",
       "   '09-gwt-voronoi-demo.ipynb',\n",
       "   '01-Flopy-intro.ipynb']),\n",
       " ('../part1_flopy/data',\n",
       "  ['depletion_results',\n",
       "   'pleasant-lake',\n",
       "   'voronoi',\n",
       "   'quadtree',\n",
       "   'modelgrid_intersection'],\n",
       "  ['pleasant_lgr_inset.yml', 'pleasant_lgr_parent.yml']),\n",
       " ('../part1_flopy/data/depletion_results', [], ['depletion_results.csv']),\n",
       " ('../part1_flopy/data/pleasant-lake',\n",
       "  ['source_data', 'external'],\n",
       "  ['pleasant.chd.obs',\n",
       "   'pleasant.sfr',\n",
       "   'pleasant.rcha',\n",
       "   'mfsim.nam',\n",
       "   'pleasant.ic',\n",
       "   'pleasant.sfr.obs',\n",
       "   'pleasant.ims',\n",
       "   'pleasant.sto',\n",
       "   'pleasant.wel',\n",
       "   'pleasant.obs',\n",
       "   'pleasant.hds',\n",
       "   'pleasant.npf',\n",
       "   'pleasant.lak',\n",
       "   'pleasant.oc',\n",
       "   'pleasant.dis',\n",
       "   'pleasant.nam',\n",
       "   'pleasant.chd',\n",
       "   'pleasant.tdis',\n",
       "   'pleasant.lak.obs']),\n",
       " ('../part1_flopy/data/pleasant-lake/source_data',\n",
       "  ['shps', 'tables', 'rasters'],\n",
       "  ['PRISM_ppt_tmean_stable_4km_189501_201901_43.9850_-89.5522.csv']),\n",
       " ('../part1_flopy/data/pleasant-lake/source_data/shps',\n",
       "  ['NHDSnapshot', 'NHDPlusAttributes'],\n",
       "  ['all_lakes.cpg',\n",
       "   'all_lakes.dbf',\n",
       "   'all_lakes.prj',\n",
       "   'all_lakes.shx',\n",
       "   'all_lakes.shp']),\n",
       " ('../part1_flopy/data/pleasant-lake/source_data/shps/NHDSnapshot',\n",
       "  ['Hydrography'],\n",
       "  []),\n",
       " ('../part1_flopy/data/pleasant-lake/source_data/shps/NHDSnapshot/Hydrography',\n",
       "  [],\n",
       "  ['NHDFlowline.cpg',\n",
       "   'NHDFlowline.shp',\n",
       "   'NHDFlowline.shx',\n",
       "   'NHDFlowline.dbf',\n",
       "   'NHDFlowline.prj']),\n",
       " ('../part1_flopy/data/pleasant-lake/source_data/shps/NHDPlusAttributes',\n",
       "  [],\n",
       "  ['elevslope.dbf',\n",
       "   'PlusFlowlineVAA.dbf',\n",
       "   'PlusFlow.cpg',\n",
       "   'PlusFlowlineVAA.cpg',\n",
       "   'elevslope.cpg',\n",
       "   'PlusFlow.dbf']),\n",
       " ('../part1_flopy/data/pleasant-lake/source_data/tables',\n",
       "  [],\n",
       "  ['lake_sites.csv',\n",
       "   'area_stage_vol_Pleasant.csv',\n",
       "   'wdnr_gw_sites.csv',\n",
       "   'wgnhs_head_targets.csv',\n",
       "   'uwsp_heads.csv',\n",
       "   'gages.csv',\n",
       "   'nwis_heads_info_file.csv']),\n",
       " ('../part1_flopy/data/pleasant-lake/source_data/rasters',\n",
       "  [],\n",
       "  ['botm0.tif',\n",
       "   'botm2.tif',\n",
       "   'dem40m.tif',\n",
       "   'botm3.tif',\n",
       "   'botm1.tif',\n",
       "   'pleasant_bathymetry.tif']),\n",
       " ('../part1_flopy/data/pleasant-lake/external',\n",
       "  [],\n",
       "  ['strt_002.dat',\n",
       "   'chd_000.dat',\n",
       "   'sy_001.dat',\n",
       "   'rch_010.dat',\n",
       "   'chd_002.dat',\n",
       "   'pleasant_packagedata.dat',\n",
       "   'rch_000.dat',\n",
       "   'rch_011.dat',\n",
       "   'chd_007.dat',\n",
       "   'chd_005.dat',\n",
       "   'k33_001.dat',\n",
       "   'chd_004.dat',\n",
       "   'rch_005.dat',\n",
       "   'chd_003.dat',\n",
       "   '600059060_stage_area_volume.dat',\n",
       "   'chd_010.dat',\n",
       "   'chd_009.dat',\n",
       "   'pleasant_top.dat.original',\n",
       "   'botm_001.dat',\n",
       "   'wel_009.dat',\n",
       "   'chd_012.dat',\n",
       "   'k_001.dat',\n",
       "   'rch_008.dat',\n",
       "   'idomain_001.dat',\n",
       "   'wel_006.dat',\n",
       "   'rch_006.dat',\n",
       "   'ss_003.dat',\n",
       "   'wel_010.dat',\n",
       "   'rch_007.dat',\n",
       "   'strt_001.dat',\n",
       "   'rch_004.dat',\n",
       "   'rch_009.dat',\n",
       "   'idomain_003.dat',\n",
       "   'wel_008.dat',\n",
       "   'chd_001.dat',\n",
       "   'wel_001.dat',\n",
       "   'idomain_002.dat',\n",
       "   'botm_002.dat',\n",
       "   'k_003.dat',\n",
       "   'botm_003.dat',\n",
       "   'k33_003.dat',\n",
       "   'ss_002.dat',\n",
       "   'wel_004.dat',\n",
       "   'top.dat',\n",
       "   'sy_003.dat',\n",
       "   'sy_002.dat',\n",
       "   'rch_003.dat',\n",
       "   'ss_001.dat',\n",
       "   'chd_011.dat',\n",
       "   'wel_005.dat',\n",
       "   'k_002.dat',\n",
       "   'k_000.dat',\n",
       "   'strt_003.dat',\n",
       "   'chd_006.dat',\n",
       "   'chd_008.dat',\n",
       "   'irch.dat',\n",
       "   'idomain_000.dat',\n",
       "   'sy_000.dat',\n",
       "   'rch_012.dat',\n",
       "   'ss_000.dat',\n",
       "   'strt_000.dat',\n",
       "   'k33_002.dat',\n",
       "   'rch_001.dat',\n",
       "   'botm_000.dat',\n",
       "   'wel_000.dat',\n",
       "   'wel_007.dat',\n",
       "   'k33_000.dat',\n",
       "   'rch_002.dat']),\n",
       " ('../part1_flopy/data/voronoi',\n",
       "  ['grid'],\n",
       "  ['project.lst',\n",
       "   'project.sfr',\n",
       "   'project.npf',\n",
       "   'project.rcha',\n",
       "   'mfsim.nam',\n",
       "   'project.oc',\n",
       "   'mfsim.lst',\n",
       "   'sfr_obs.csv',\n",
       "   'project.disv',\n",
       "   'project.ic',\n",
       "   'project.hds',\n",
       "   'project.sfr.obs',\n",
       "   'project.ims',\n",
       "   'project.cbc',\n",
       "   'project.wel',\n",
       "   'project.nam',\n",
       "   'project.chd',\n",
       "   'project.tdis',\n",
       "   'project.disv.grb']),\n",
       " ('../part1_flopy/data/voronoi/grid',\n",
       "  [],\n",
       "  ['_triangle.1.ele',\n",
       "   '_triangle.1.edge',\n",
       "   '_triangle.1.poly',\n",
       "   '_triangle.0.node',\n",
       "   '_triangle.1.neigh',\n",
       "   '_triangle.1.node',\n",
       "   '_triangle.0.poly']),\n",
       " ('../part1_flopy/data/quadtree',\n",
       "  ['grid'],\n",
       "  ['project.lst',\n",
       "   'project.sfr',\n",
       "   'project.npf',\n",
       "   'project.rcha',\n",
       "   'mfsim.nam',\n",
       "   'project.oc',\n",
       "   'mfsim.lst',\n",
       "   'sfr_obs.csv',\n",
       "   'project.disv',\n",
       "   'project.ic',\n",
       "   'project.hds',\n",
       "   'project.sfr.obs',\n",
       "   'project.ims',\n",
       "   'project.cbc',\n",
       "   'project.wel',\n",
       "   'project.nam',\n",
       "   'project.chd',\n",
       "   'project.tdis',\n",
       "   'project.disv.grb']),\n",
       " ('../part1_flopy/data/quadtree/grid',\n",
       "  [],\n",
       "  ['quadtreegrid.top1.dat',\n",
       "   'qtg.nod',\n",
       "   'quadtreegrid.tsf',\n",
       "   'qtg.iac.dat',\n",
       "   'qtgrid_pt.shp',\n",
       "   '_gridgen_export.dfn',\n",
       "   'qtg.vtu',\n",
       "   'qtgrid.dbf',\n",
       "   'qtg.ia.dat',\n",
       "   'quadtreegrid.dfn',\n",
       "   'qtgrid_pt.shx',\n",
       "   'quadtreegrid.bot1.dat',\n",
       "   'qtg.c2.dat',\n",
       "   'qtg.c1.dat',\n",
       "   'qtg.nodesperlay.dat',\n",
       "   'qtgrid_pt.dbf',\n",
       "   'qtgrid.shx',\n",
       "   'qtg_sv.vtu',\n",
       "   'qtg.ja.dat',\n",
       "   'qtg.gnc.dat',\n",
       "   'qtgrid.shp',\n",
       "   'qtg.area.dat',\n",
       "   'qtg.fahl.dat',\n",
       "   'qtg.fldr.dat',\n",
       "   '_gridgen_build.dfn']),\n",
       " ('../part1_flopy/data/modelgrid_intersection',\n",
       "  [],\n",
       "  ['sagehen_main_nhd.shx',\n",
       "   'pet.txt',\n",
       "   'dem_30m.img',\n",
       "   'sagehen_nhd.shx',\n",
       "   'trib_cells.txt',\n",
       "   'sagehen_basin.shx',\n",
       "   'sagehen_basin.prj',\n",
       "   'sagehen_nhd.dbf',\n",
       "   'sagehen_main_nhd.shp',\n",
       "   'active_area.shp',\n",
       "   'refined_area.shx',\n",
       "   'sagehen_basin.cpg',\n",
       "   'sagehen_main_nhd.cpg',\n",
       "   'active_area.shx',\n",
       "   'sagehen_basin.dbf',\n",
       "   'refined_area.dbf',\n",
       "   'sagehen_basin.shp',\n",
       "   'active_area.dbf',\n",
       "   'sagehen_main_nhd.prj',\n",
       "   'ksat.img',\n",
       "   'active_area.prj',\n",
       "   'sagehen_gage_data.csv',\n",
       "   'prcp.tif',\n",
       "   'refined_area.prj',\n",
       "   'sagehen_main_nhd.dbf',\n",
       "   'sagehen_nhd.cpg',\n",
       "   'refined_area.shp',\n",
       "   'sagehen_nhd.shp',\n",
       "   'sagehen_nhd.prj',\n",
       "   'pet.tif']),\n",
       " ('../part1_flopy/data_project',\n",
       "  [],\n",
       "  ['pumping_well_locations.shp',\n",
       "   'Flowline_river.shp',\n",
       "   'pumping_well_locations.dbf',\n",
       "   'inactive_area.dbf',\n",
       "   'Flowline_river.shx',\n",
       "   'Flowline_river.dbf',\n",
       "   'active_area.shp',\n",
       "   'active_area.shx',\n",
       "   'inactive_area.shx',\n",
       "   'aquifer_k.asc',\n",
       "   'pumping_well_locations.shx',\n",
       "   'active_area.dbf',\n",
       "   'aquifer_top.asc',\n",
       "   'inactive_area.shp',\n",
       "   'Flowline_river.prj',\n",
       "   'aquifer_bottom.asc']),\n",
       " ('../part1_flopy/solutions',\n",
       "  [],\n",
       "  ['06-Project-structured_completed.ipynb',\n",
       "   '06-Project-voronoi.ipynb',\n",
       "   '02-Building-Post-Processing-MODFLOW6__solutions.ipynb',\n",
       "   '03_Loading_and_visualizing_models-solutions.ipynb',\n",
       "   '04_Modelgrid_and_intersection_solution.ipynb',\n",
       "   '07-stream_capture_voronoi.ipynb',\n",
       "   '06-Project-quadtree.ipynb'])]"
      ]
     },
     "execution_count": 49,
     "metadata": {},
     "output_type": "execute_result"
    }
   ],
   "source": [
    "pth = Path('..')\n",
    "results = list(os.walk(pth))\n",
    "results"
   ]
  },
  {
   "cell_type": "markdown",
   "metadata": {},
   "source": [
    "#### Make a more readable list of just the jupyter notebooks\n",
    "Note: the key advantage of ``os.walk`` over ``glob`` is the recursion-- individual subfolder levels don't need to be known or specified a priori."
   ]
  },
  {
   "cell_type": "code",
   "execution_count": 50,
   "metadata": {
    "execution": {
     "iopub.execute_input": "2024-03-21T15:39:51.237076Z",
     "iopub.status.busy": "2024-03-21T15:39:51.236817Z",
     "iopub.status.idle": "2024-03-21T15:39:51.241893Z",
     "shell.execute_reply": "2024-03-21T15:39:51.241450Z"
    }
   },
   "outputs": [
    {
     "name": "stdout",
     "output_type": "stream",
     "text": [
      "../part0_python_intro/03_useful-std-library-modules.ipynb\n",
      "../part0_python_intro/09_b_Geopandas_ABQ.ipynb\n",
      "../part0_python_intro/09_a_Geopandas.ipynb\n",
      "../part0_python_intro/10_Rasterio.ipynb\n",
      "../part0_python_intro/06b_matplotlib_animation.ipynb\n",
      "../part0_python_intro/11_xarray_mt_rainier_precip.ipynb\n",
      "../part0_python_intro/05_numpy.ipynb\n",
      "../part0_python_intro/00_python_basics_review.ipynb\n",
      "../part0_python_intro/solutions/01_functions_script__solution.ipynb\n",
      "../part0_python_intro/solutions/03_useful-std-library-modules-solutions.ipynb\n",
      "../part0_python_intro/solutions/09_Geopandas__solutions.ipynb\n",
      "../part0_python_intro/solutions/08_pandas.ipynb\n",
      "../part0_python_intro/solutions/04_files_and_strings.ipynb\n",
      "../part0_python_intro/solutions/02_Namespace_objects_modules_packages__solution.ipynb\n",
      "../part0_python_intro/solutions/07a_Theis-exercise-solution.ipynb\n",
      "../part0_python_intro/solutions/06_matplotlib__solution.ipynb\n",
      "../part0_python_intro/solutions/05_numpy__solutions.ipynb\n",
      "../part1_flopy/10_modpath_particle_tracking-demo.ipynb\n",
      "../part1_flopy/05-unstructured-grids.ipynb\n",
      "../part1_flopy/08_Modflow-setup-demo.ipynb\n",
      "../part1_flopy/09-gwt-voronoi-demo.ipynb\n",
      "../part1_flopy/01-Flopy-intro.ipynb\n",
      "../part1_flopy/solutions/06-Project-structured_completed.ipynb\n",
      "../part1_flopy/solutions/06-Project-voronoi.ipynb\n",
      "../part1_flopy/solutions/02-Building-Post-Processing-MODFLOW6__solutions.ipynb\n",
      "../part1_flopy/solutions/03_Loading_and_visualizing_models-solutions.ipynb\n",
      "../part1_flopy/solutions/04_Modelgrid_and_intersection_solution.ipynb\n",
      "../part1_flopy/solutions/07-stream_capture_voronoi.ipynb\n",
      "../part1_flopy/solutions/06-Project-quadtree.ipynb\n"
     ]
    }
   ],
   "source": [
    "for root, dirs, files in os.walk(pth):\n",
    "    for f in files:\n",
    "        filepath = Path(root, f)\n",
    "        if filepath.suffix == '.ipynb':\n",
    "            print(filepath)"
   ]
  },
  {
   "cell_type": "markdown",
   "metadata": {},
   "source": [
    "### Accessing environmental variables"
   ]
  },
  {
   "cell_type": "code",
   "execution_count": 51,
   "metadata": {
    "execution": {
     "iopub.execute_input": "2024-03-21T15:39:51.243657Z",
     "iopub.status.busy": "2024-03-21T15:39:51.243368Z",
     "iopub.status.idle": "2024-03-21T15:39:51.248083Z",
     "shell.execute_reply": "2024-03-21T15:39:51.247635Z"
    }
   },
   "outputs": [
    {
     "data": {
      "text/plain": [
       "environ{'GITHUB_STATE': '/home/runner/work/_temp/_runner_file_commands/save_state_914b31df-a5f9-4151-b8ac-dd27d73748bf',\n",
       "        'CONDA_PROMPT_MODIFIER': '(pyclass-docs) ',\n",
       "        'STATS_TRP': 'true',\n",
       "        'DOTNET_NOLOGO': '1',\n",
       "        'DEPLOYMENT_BASEPATH': '/opt/runner',\n",
       "        'USER': 'runner',\n",
       "        'CI': 'true',\n",
       "        'GITHUB_ENV': '/home/runner/work/_temp/_runner_file_commands/set_env_914b31df-a5f9-4151-b8ac-dd27d73748bf',\n",
       "        'PIPX_HOME': '/opt/pipx',\n",
       "        'RUNNER_ENVIRONMENT': 'github-hosted',\n",
       "        'JAVA_HOME_8_X64': '/usr/lib/jvm/temurin-8-jdk-amd64',\n",
       "        'SHLVL': '1',\n",
       "        'CONDA_SHLVL': '1',\n",
       "        'HOME': '/home/runner',\n",
       "        'RUNNER_TEMP': '/home/runner/work/_temp',\n",
       "        'GITHUB_EVENT_PATH': '/home/runner/work/_temp/_github_workflow/event.json',\n",
       "        'GITHUB_REPOSITORY_OWNER': 'aleaf',\n",
       "        'JAVA_HOME_11_X64': '/usr/lib/jvm/temurin-11-jdk-amd64',\n",
       "        'PIPX_BIN_DIR': '/opt/pipx_bin',\n",
       "        'STATS_RDCL': 'true',\n",
       "        'ANDROID_NDK_LATEST_HOME': '/usr/local/lib/android/sdk/ndk/26.2.11394342',\n",
       "        'GRADLE_HOME': '/usr/share/gradle-8.6',\n",
       "        'GITHUB_RETENTION_DAYS': '90',\n",
       "        'JAVA_HOME_21_X64': '/usr/lib/jvm/temurin-21-jdk-amd64',\n",
       "        'POWERSHELL_DISTRIBUTION_CHANNEL': 'GitHub-Actions-ubuntu22',\n",
       "        'CPL_ZIP_ENCODING': 'UTF-8',\n",
       "        'GITHUB_HEAD_REF': '',\n",
       "        'GITHUB_REPOSITORY_OWNER_ID': '3923387',\n",
       "        'AZURE_EXTENSION_DIR': '/opt/az/azcliextensions',\n",
       "        'MAKEFLAGS': 'w',\n",
       "        'SYSTEMD_EXEC_PID': '598',\n",
       "        'GITHUB_GRAPHQL_URL': 'https://api.github.com/graphql',\n",
       "        'NVM_DIR': '/home/runner/.nvm',\n",
       "        'GOROOT_1_20_X64': '/opt/hostedtoolcache/go/1.20.14/x64',\n",
       "        'DOTNET_SKIP_FIRST_TIME_EXPERIENCE': '1',\n",
       "        'JAVA_HOME_17_X64': '/usr/lib/jvm/temurin-17-jdk-amd64',\n",
       "        'GOROOT_1_21_X64': '/opt/hostedtoolcache/go/1.21.8/x64',\n",
       "        'ImageVersion': '20240317.1.0',\n",
       "        'RUNNER_OS': 'Linux',\n",
       "        'GITHUB_API_URL': 'https://api.github.com',\n",
       "        'SWIFT_PATH': '/usr/share/swift/usr/bin',\n",
       "        'GOROOT_1_22_X64': '/opt/hostedtoolcache/go/1.22.1/x64',\n",
       "        'RUNNER_USER': 'runner',\n",
       "        'CHROMEWEBDRIVER': '/usr/local/share/chromedriver-linux64',\n",
       "        '_': '/usr/bin/make',\n",
       "        'JOURNAL_STREAM': '8:19826',\n",
       "        'GITHUB_WORKFLOW': 'Publish Docs',\n",
       "        'STATS_V3PS': 'true',\n",
       "        'CONDARC': '/home/runner/work/_temp/setup-micromamba/.condarc',\n",
       "        'GITHUB_RUN_ID': '8377729491',\n",
       "        'ACTIONS_RUNNER_ACTION_ARCHIVE_CACHE': '/opt/actionarchivecache',\n",
       "        'GITHUB_WORKFLOW_SHA': 'b07ed4615fd76c5e94b25980a7d8743641ce862c',\n",
       "        'MODFLOW_BIN_PATH': '/home/runner/.local/bin',\n",
       "        'BOOTSTRAP_HASKELL_NONINTERACTIVE': '1',\n",
       "        'GITHUB_REF_TYPE': 'branch',\n",
       "        'ImageOS': 'ubuntu22',\n",
       "        'GITHUB_BASE_REF': '',\n",
       "        'GITHUB_ACTION_REPOSITORY': '',\n",
       "        'PERFLOG_LOCATION_SETTING': 'RUNNER_PERFLOG',\n",
       "        'GITHUB_WORKFLOW_REF': 'aleaf/python-for-hydrology/.github/workflows/build_docs.yaml@refs/heads/main',\n",
       "        'PATH': '/home/runner/micromamba/envs/pyclass-docs/bin:/home/runner/micromamba/condabin:/home/runner/.local/bin:/home/runner/work/_temp/setup-micromamba:/home/runner/micromamba-bin:/snap/bin:/home/runner/.local/bin:/opt/pipx_bin:/home/runner/.cargo/bin:/home/runner/.config/composer/vendor/bin:/usr/local/.ghcup/bin:/home/runner/.dotnet/tools:/usr/local/sbin:/usr/local/bin:/usr/sbin:/usr/bin:/sbin:/bin:/usr/games:/usr/local/games:/snap/bin:/home/runner/.dotnet/tools',\n",
       "        'RUNNER_TRACKING_ID': 'github_9022902e-aad8-4dd5-bbb0-f6d0c8cc5219',\n",
       "        'DOTNET_MULTILEVEL_LOOKUP': '0',\n",
       "        'INVOCATION_ID': 'df198c267bcb4ec2865af29a4d2c12f7',\n",
       "        'PROJ_NETWORK': 'ON',\n",
       "        'RUNNER_TOOL_CACHE': '/opt/hostedtoolcache',\n",
       "        'ANT_HOME': '/usr/share/ant',\n",
       "        'GITHUB_TRIGGERING_ACTOR': 'aleaf',\n",
       "        'GITHUB_RUN_NUMBER': '12',\n",
       "        'RUNNER_ARCH': 'X64',\n",
       "        'XDG_RUNTIME_DIR': '/run/user/1001',\n",
       "        'AGENT_TOOLSDIRECTORY': '/opt/hostedtoolcache',\n",
       "        'GITHUB_ACTION': '__run_7',\n",
       "        'PROJ_DATA': '/home/runner/micromamba/envs/pyclass-docs/share/proj',\n",
       "        'MAKELEVEL': '1',\n",
       "        'MAMBA_ROOT_PREFIX': '/home/runner/micromamba',\n",
       "        'LANG': 'C.UTF-8',\n",
       "        'VCPKG_INSTALLATION_ROOT': '/usr/local/share/vcpkg',\n",
       "        'RUNNER_NAME': 'GitHub Actions 11',\n",
       "        'GITHUB_REF_NAME': 'main',\n",
       "        'XDG_CONFIG_HOME': '/home/runner/.config',\n",
       "        'CONDA': '/usr/share/miniconda',\n",
       "        'STATS_VMD': 'true',\n",
       "        'GITHUB_REPOSITORY': 'aleaf/python-for-hydrology',\n",
       "        'XML_CATALOG_FILES': 'file:///home/runner/micromamba/envs/pyclass-docs/etc/xml/catalog file:///etc/xml/catalog',\n",
       "        'STATS_UE': 'true',\n",
       "        'GITHUB_ACTION_REF': '',\n",
       "        'ANDROID_NDK_ROOT': '/usr/local/lib/android/sdk/ndk/25.2.9519653',\n",
       "        'DEBIAN_FRONTEND': 'noninteractive',\n",
       "        'GSETTINGS_SCHEMA_DIR': '/home/runner/micromamba/envs/pyclass-docs/share/glib-2.0/schemas',\n",
       "        'GITHUB_REPOSITORY_ID': '538574457',\n",
       "        'GITHUB_ACTIONS': 'true',\n",
       "        'GDAL_DRIVER_PATH': '/home/runner/micromamba/envs/pyclass-docs/lib/gdalplugins',\n",
       "        'GITHUB_REF_PROTECTED': 'false',\n",
       "        'ACCEPT_EULA': 'Y',\n",
       "        'RUNNER_PERFLOG': '/home/runner/perflog',\n",
       "        'GITHUB_JOB': 'docs',\n",
       "        'CONDA_DEFAULT_ENV': 'pyclass-docs',\n",
       "        'GITHUB_WORKSPACE': '/home/runner/work/python-for-hydrology/python-for-hydrology',\n",
       "        'GITHUB_SHA': 'b07ed4615fd76c5e94b25980a7d8743641ce862c',\n",
       "        'GITHUB_RUN_ATTEMPT': '1',\n",
       "        'GITHUB_REF': 'refs/heads/main',\n",
       "        'ANDROID_SDK_ROOT': '/usr/local/lib/android/sdk',\n",
       "        'MAMBA_EXE': '/home/runner/micromamba-bin/micromamba',\n",
       "        'GITHUB_ACTOR': 'aleaf',\n",
       "        'LEIN_HOME': '/usr/local/lib/lein',\n",
       "        'JAVA_HOME': '/usr/lib/jvm/temurin-11-jdk-amd64',\n",
       "        'PWD': '/home/runner/work/python-for-hydrology/python-for-hydrology/docs',\n",
       "        'RUNNER_WORKSPACE': '/home/runner/work/python-for-hydrology',\n",
       "        'GITHUB_ACTOR_ID': '3923387',\n",
       "        'GITHUB_PATH': '/home/runner/work/_temp/_runner_file_commands/add_path_914b31df-a5f9-4151-b8ac-dd27d73748bf',\n",
       "        'GHCUP_INSTALL_BASE_PREFIX': '/usr/local',\n",
       "        'GITHUB_EVENT_NAME': 'push',\n",
       "        'XDG_DATA_DIRS': '/usr/local/share:/usr/share:/var/lib/snapd/desktop',\n",
       "        'GITHUB_SERVER_URL': 'https://github.com',\n",
       "        'STATS_TIS': 'mining',\n",
       "        'ANDROID_HOME': '/usr/local/lib/android/sdk',\n",
       "        'LEIN_JAR': '/usr/local/lib/lein/self-installs/leiningen-2.11.2-standalone.jar',\n",
       "        'GECKOWEBDRIVER': '/usr/local/share/gecko_driver',\n",
       "        'NVM_CD_FLAGS': '',\n",
       "        'HOMEBREW_CLEANUP_PERIODIC_FULL_DAYS': '3650',\n",
       "        'GITHUB_OUTPUT': '/home/runner/work/_temp/_runner_file_commands/set_output_914b31df-a5f9-4151-b8ac-dd27d73748bf',\n",
       "        'HOMEBREW_NO_AUTO_UPDATE': '1',\n",
       "        'EDGEWEBDRIVER': '/usr/local/share/edge_driver',\n",
       "        'STATS_EXT': 'true',\n",
       "        'SGX_AESM_ADDR': '1',\n",
       "        'CHROME_BIN': '/usr/bin/google-chrome',\n",
       "        'MFLAGS': '-w',\n",
       "        'CONDA_PREFIX': '/home/runner/micromamba/envs/pyclass-docs',\n",
       "        'ANDROID_NDK': '/usr/local/lib/android/sdk/ndk/25.2.9519653',\n",
       "        'GSETTINGS_SCHEMA_DIR_CONDA_BACKUP': '',\n",
       "        'SELENIUM_JAR_PATH': '/usr/share/java/selenium-server.jar',\n",
       "        'STATS_EXTP': 'https://provjobdsettingscdn.blob.core.windows.net/settings/provjobdsettings-0.5.154/provjobd.data',\n",
       "        'ANDROID_NDK_HOME': '/usr/local/lib/android/sdk/ndk/25.2.9519653',\n",
       "        'GDAL_DATA': '/home/runner/micromamba/envs/pyclass-docs/share/gdal',\n",
       "        'GITHUB_STEP_SUMMARY': '/home/runner/work/_temp/_runner_file_commands/step_summary_914b31df-a5f9-4151-b8ac-dd27d73748bf',\n",
       "        'DOCUTILSCONFIG': '/home/runner/work/python-for-hydrology/python-for-hydrology/docs/source/docutils.conf',\n",
       "        'JPY_PARENT_PID': '4321',\n",
       "        'PYDEVD_USE_FRAME_EVAL': 'NO',\n",
       "        'TERM': 'xterm-color',\n",
       "        'CLICOLOR': '1',\n",
       "        'FORCE_COLOR': '1',\n",
       "        'CLICOLOR_FORCE': '1',\n",
       "        'PAGER': 'cat',\n",
       "        'GIT_PAGER': 'cat',\n",
       "        'MPLBACKEND': 'module://matplotlib_inline.backend_inline'}"
      ]
     },
     "execution_count": 51,
     "metadata": {},
     "output_type": "execute_result"
    }
   ],
   "source": [
    "os.environ"
   ]
  },
  {
   "cell_type": "markdown",
   "metadata": {},
   "source": [
    "#### Example: get the location of the current python (Conda) environment"
   ]
  },
  {
   "cell_type": "code",
   "execution_count": 52,
   "metadata": {
    "execution": {
     "iopub.execute_input": "2024-03-21T15:39:51.249857Z",
     "iopub.status.busy": "2024-03-21T15:39:51.249486Z",
     "iopub.status.idle": "2024-03-21T15:39:51.252465Z",
     "shell.execute_reply": "2024-03-21T15:39:51.252111Z"
    }
   },
   "outputs": [
    {
     "data": {
      "text/plain": [
       "'/home/runner/micromamba/envs/pyclass-docs'"
      ]
     },
     "execution_count": 52,
     "metadata": {},
     "output_type": "execute_result"
    }
   ],
   "source": [
    "os.environ['CONDA_PREFIX']"
   ]
  },
  {
   "cell_type": "markdown",
   "metadata": {},
   "source": [
    "## ``subprocess`` — Subprocess management\n",
    "\n",
    "The subprocess module offers a way to execute system commands, for example MODFLOW, or any operating system command that you can type at the command line.\n",
    "\n",
    "The recommended approach to invoking subprocesses is to use the ``run()`` function for all use cases it can handle. For more advanced use cases, the underlying ``Popen`` interface can be used directly.\n",
    "\n",
    "Take a look at the following help descriptions for ``run``.\n",
    "\n",
    "Note, that on Windows, you may have to specify \"shell=True\" in order to access system commands."
   ]
  },
  {
   "cell_type": "code",
   "execution_count": 53,
   "metadata": {
    "execution": {
     "iopub.execute_input": "2024-03-21T15:39:51.254145Z",
     "iopub.status.busy": "2024-03-21T15:39:51.253865Z",
     "iopub.status.idle": "2024-03-21T15:39:51.256711Z",
     "shell.execute_reply": "2024-03-21T15:39:51.256247Z"
    }
   },
   "outputs": [
    {
     "name": "stdout",
     "output_type": "stream",
     "text": [
      "Help on function run in module subprocess:\n",
      "\n",
      "run(*popenargs, input=None, capture_output=False, timeout=None, check=False, **kwargs)\n",
      "    Run command with arguments and return a CompletedProcess instance.\n",
      "    \n",
      "    The returned instance will have attributes args, returncode, stdout and\n",
      "    stderr. By default, stdout and stderr are not captured, and those attributes\n",
      "    will be None. Pass stdout=PIPE and/or stderr=PIPE in order to capture them,\n",
      "    or pass capture_output=True to capture both.\n",
      "    \n",
      "    If check is True and the exit code was non-zero, it raises a\n",
      "    CalledProcessError. The CalledProcessError object will have the return code\n",
      "    in the returncode attribute, and output & stderr attributes if those streams\n",
      "    were captured.\n",
      "    \n",
      "    If timeout is given, and the process takes too long, a TimeoutExpired\n",
      "    exception will be raised.\n",
      "    \n",
      "    There is an optional argument \"input\", allowing you to\n",
      "    pass bytes or a string to the subprocess's stdin.  If you use this argument\n",
      "    you may not also use the Popen constructor's \"stdin\" argument, as\n",
      "    it will be used internally.\n",
      "    \n",
      "    By default, all communication is in bytes, and therefore any \"input\" should\n",
      "    be bytes, and the stdout and stderr will be bytes. If in text mode, any\n",
      "    \"input\" should be a string, and stdout and stderr will be strings decoded\n",
      "    according to locale encoding, or by \"encoding\" if set. Text mode is\n",
      "    triggered by setting any of text, encoding, errors or universal_newlines.\n",
      "    \n",
      "    The other arguments are the same as for the Popen constructor.\n",
      "\n"
     ]
    }
   ],
   "source": [
    "help(subprocess.run)"
   ]
  },
  {
   "cell_type": "code",
   "execution_count": 54,
   "metadata": {
    "execution": {
     "iopub.execute_input": "2024-03-21T15:39:51.258315Z",
     "iopub.status.busy": "2024-03-21T15:39:51.258173Z",
     "iopub.status.idle": "2024-03-21T15:39:51.263013Z",
     "shell.execute_reply": "2024-03-21T15:39:51.262594Z"
    }
   },
   "outputs": [
    {
     "name": "stdout",
     "output_type": "stream",
     "text": [
      "00_python_basics_review.ipynb\n",
      "03_useful-std-library-modules.ipynb\n",
      "05_numpy.ipynb\n",
      "06b_matplotlib_animation.ipynb\n",
      "07b_VSCode.md\n",
      "09_a_Geopandas.ipynb\n",
      "09_b_Geopandas_ABQ.ipynb\n",
      "10_Rasterio.ipynb\n",
      "11_xarray_mt_rainier_precip.ipynb\n",
      "another_subfolder\n",
      "data\n",
      "solutions\n",
      "CompletedProcess(args=['ls', '-l'], returncode=0)\n"
     ]
    }
   ],
   "source": [
    "# if on mac/unix\n",
    "print(subprocess.run(['ls', '-l'], shell=True))"
   ]
  },
  {
   "cell_type": "markdown",
   "metadata": {},
   "source": [
    "With the `cwd` argument, we can control the working directory for the command. Here we list the files in the parent directory."
   ]
  },
  {
   "cell_type": "code",
   "execution_count": 55,
   "metadata": {
    "execution": {
     "iopub.execute_input": "2024-03-21T15:39:51.264747Z",
     "iopub.status.busy": "2024-03-21T15:39:51.264471Z",
     "iopub.status.idle": "2024-03-21T15:39:51.269049Z",
     "shell.execute_reply": "2024-03-21T15:39:51.268652Z"
    }
   },
   "outputs": [
    {
     "name": "stdout",
     "output_type": "stream",
     "text": [
      "part0_python_intro\n",
      "part1_flopy\n",
      "CompletedProcess(args=['ls', '-l'], returncode=0)\n"
     ]
    }
   ],
   "source": [
    "print(subprocess.run(['ls', '-l'], shell=True, cwd='..'))"
   ]
  },
  {
   "cell_type": "code",
   "execution_count": 56,
   "metadata": {
    "execution": {
     "iopub.execute_input": "2024-03-21T15:39:51.270643Z",
     "iopub.status.busy": "2024-03-21T15:39:51.270494Z",
     "iopub.status.idle": "2024-03-21T15:39:51.286918Z",
     "shell.execute_reply": "2024-03-21T15:39:51.286538Z"
    }
   },
   "outputs": [
    {
     "name": "stdout",
     "output_type": "stream",
     "text": [
      "00_python_basics_review.ipynb\t     09_b_Geopandas_ABQ.ipynb\n",
      "03_useful-std-library-modules.ipynb  10_Rasterio.ipynb\n",
      "05_numpy.ipynb\t\t\t     11_xarray_mt_rainier_precip.ipynb\n",
      "06b_matplotlib_animation.ipynb\t     another_subfolder\n",
      "07b_VSCode.md\t\t\t     data\n",
      "09_a_Geopandas.ipynb\t\t     solutions\n",
      "CompletedProcess(args=['dir'], returncode=0)\n"
     ]
    }
   ],
   "source": [
    "# if on windows\n",
    "print(subprocess.run(['dir'], shell=True))"
   ]
  },
  {
   "cell_type": "markdown",
   "metadata": {},
   "source": [
    "## ``zipfile`` — Work with ZIP archives\n",
    "\n",
    "#### zip up one of the files in data/"
   ]
  },
  {
   "cell_type": "code",
   "execution_count": 57,
   "metadata": {
    "execution": {
     "iopub.execute_input": "2024-03-21T15:39:51.288796Z",
     "iopub.status.busy": "2024-03-21T15:39:51.288338Z",
     "iopub.status.idle": "2024-03-21T15:39:51.299955Z",
     "shell.execute_reply": "2024-03-21T15:39:51.299592Z"
    }
   },
   "outputs": [],
   "source": [
    "with zipfile.ZipFile('junk.zip', 'w') as dest:\n",
    "    dest.write('data/xarray/daymet_prcp_rainier_1980-2018.nc')"
   ]
  },
  {
   "cell_type": "markdown",
   "metadata": {},
   "source": [
    "#### now extract it"
   ]
  },
  {
   "cell_type": "code",
   "execution_count": 58,
   "metadata": {
    "execution": {
     "iopub.execute_input": "2024-03-21T15:39:51.301578Z",
     "iopub.status.busy": "2024-03-21T15:39:51.301433Z",
     "iopub.status.idle": "2024-03-21T15:39:51.311350Z",
     "shell.execute_reply": "2024-03-21T15:39:51.310976Z"
    }
   },
   "outputs": [],
   "source": [
    "with zipfile.ZipFile('junk.zip') as src:\n",
    "    src.extract('data/xarray/daymet_prcp_rainier_1980-2018.nc', path='extracted_data')"
   ]
  },
  {
   "cell_type": "markdown",
   "metadata": {},
   "source": [
    "## Testing Your Skills with a truly awful example:\n",
    "\n",
    "#### the problem:\n",
    "Pretend that the file `data/fileio/netcdf_data.zip` contains some climate data (in the NetCDF format with the ``*.nc`` extension) that we downloaded. If you open `data/fileio/netcdf_data.zip`, you'll see that within a subfolder `zipped` are a bunch of additional subfolders, each for a different year. Within each subfolder is another zipfile. Within each of these zipfiles is yet another subfolder, inside of which is the actual data file we want (`prcp.nc`). "
   ]
  },
  {
   "cell_type": "code",
   "execution_count": 59,
   "metadata": {
    "execution": {
     "iopub.execute_input": "2024-03-21T15:39:51.313085Z",
     "iopub.status.busy": "2024-03-21T15:39:51.312794Z",
     "iopub.status.idle": "2024-03-21T15:39:51.316136Z",
     "shell.execute_reply": "2024-03-21T15:39:51.315741Z"
    }
   },
   "outputs": [
    {
     "name": "stdout",
     "output_type": "stream",
     "text": [
      "netcdf_data/\n",
      "netcdf_data/zipped/\n",
      "netcdf_data/zipped/zipped_1991/\n",
      "netcdf_data/zipped/zipped_1991/12270_1991.zip\n",
      "netcdf_data/zipped/zipped_1996/\n",
      "netcdf_data/zipped/zipped_1996/12270_1996.zip\n",
      "netcdf_data/zipped/zipped_1998/\n",
      "netcdf_data/zipped/zipped_1998/12270_1998.zip\n",
      "netcdf_data/zipped/zipped_1999/\n",
      "netcdf_data/zipped/zipped_1999/12270_1999.zip\n"
     ]
    }
   ],
   "source": [
    "with zipfile.ZipFile('data/netcdf_data.zip') as src:\n",
    "    for f in src.namelist()[:10]:\n",
    "        print(f)"
   ]
  },
  {
   "cell_type": "markdown",
   "metadata": {},
   "source": [
    "#### the goal:\n",
    "To extract all of these `prcp.nc` files into a single folder, after renaming them with their respective years (obtained from their enclosing folders or zip files). e.g.  \n",
    "```\n",
    "prcp_1980.nc\n",
    "prcp_1981.nc\n",
    "...\n",
    "```\n",
    "This will allow us to open them together as a dataset in `xarray` (more on that later). Does this sound awful? I'm not making this up. This is the kind of structure you get when downloading tiles of climate data with the [Daymet Tile Selection Tool](https://daymet.ornl.gov/gridded/)\n",
    "\n",
    "#### hint:\n",
    "you might find these functions helpful:\n",
    "```\n",
    "ZipFile.extractall\n",
    "ZipFile.extract\n",
    "Path.glob\n",
    "Path.mkdir\n",
    "Path.stem\n",
    "Path.parent\n",
    "Path.name\n",
    "shutil.move\n",
    "Path.rmdir()\n",
    "```"
   ]
  },
  {
   "cell_type": "markdown",
   "metadata": {},
   "source": [
    "#### hint: start by using ``ZipFile.extractall()`` to extract all of the individual zip files from the main zip archive\n",
    "This extracts the entire contents of the zip file to a designated folder"
   ]
  },
  {
   "cell_type": "code",
   "execution_count": 60,
   "metadata": {
    "execution": {
     "iopub.execute_input": "2024-03-21T15:39:51.317958Z",
     "iopub.status.busy": "2024-03-21T15:39:51.317612Z",
     "iopub.status.idle": "2024-03-21T15:39:51.326139Z",
     "shell.execute_reply": "2024-03-21T15:39:51.325788Z"
    }
   },
   "outputs": [],
   "source": [
    "output_folder = Path('03-output')\n",
    "output_folder.mkdir(exist_ok=True)\n",
    "\n",
    "with zipfile.ZipFile('data/netcdf_data.zip') as src:\n",
    "    src.extractall(output_folder)"
   ]
  },
  {
   "cell_type": "markdown",
   "metadata": {},
   "source": [
    "Make a list of the zipfiles"
   ]
  },
  {
   "cell_type": "code",
   "execution_count": 61,
   "metadata": {
    "execution": {
     "iopub.execute_input": "2024-03-21T15:39:51.327917Z",
     "iopub.status.busy": "2024-03-21T15:39:51.327624Z",
     "iopub.status.idle": "2024-03-21T15:39:51.332068Z",
     "shell.execute_reply": "2024-03-21T15:39:51.331616Z"
    }
   },
   "outputs": [
    {
     "data": {
      "text/plain": [
       "[PosixPath('03-output/netcdf_data/zipped/zipped_2016/12270_2016.zip'),\n",
       " PosixPath('03-output/netcdf_data/zipped/zipped_1992/12270_1992.zip'),\n",
       " PosixPath('03-output/netcdf_data/zipped/zipped_1997/12270_1997.zip'),\n",
       " PosixPath('03-output/netcdf_data/zipped/zipped_1980/12270_1980.zip'),\n",
       " PosixPath('03-output/netcdf_data/zipped/zipped_1998/12270_1998.zip')]"
      ]
     },
     "execution_count": 61,
     "metadata": {},
     "output_type": "execute_result"
    }
   ],
   "source": [
    "zipfiles = list(output_folder.glob('netcdf_data/zipped/*/*.zip'))\n",
    "zipfiles[:5]"
   ]
  },
  {
   "cell_type": "markdown",
   "metadata": {},
   "source": [
    "### Part 1: extract with a single file"
   ]
  },
  {
   "cell_type": "code",
   "execution_count": 62,
   "metadata": {
    "execution": {
     "iopub.execute_input": "2024-03-21T15:39:51.333904Z",
     "iopub.status.busy": "2024-03-21T15:39:51.333754Z",
     "iopub.status.idle": "2024-03-21T15:39:51.336810Z",
     "shell.execute_reply": "2024-03-21T15:39:51.336441Z"
    }
   },
   "outputs": [
    {
     "data": {
      "text/plain": [
       "PosixPath('03-output/netcdf_data/zipped/zipped_2016/12270_2016.zip')"
      ]
     },
     "execution_count": 62,
     "metadata": {},
     "output_type": "execute_result"
    }
   ],
   "source": [
    "f = zipfiles[0]\n",
    "f"
   ]
  },
  {
   "cell_type": "markdown",
   "metadata": {},
   "source": [
    "#### 1a) Use ``ZipFile.namelist()`` (as above) list the contents\n",
    "\n",
    "This will yield the name of the ``*.nc`` file that we need to extract"
   ]
  },
  {
   "cell_type": "code",
   "execution_count": null,
   "metadata": {},
   "outputs": [],
   "source": []
  },
  {
   "cell_type": "markdown",
   "metadata": {},
   "source": [
    "#### 1b) Use ``ZipFile.extract()`` to extract the ``*.nc`` file to the destination folder\n",
    "(you may need to create the destination folder first)"
   ]
  },
  {
   "cell_type": "code",
   "execution_count": null,
   "metadata": {},
   "outputs": [],
   "source": []
  },
  {
   "cell_type": "markdown",
   "metadata": {},
   "source": [
    "#### 1c) Move the extracted file out of any enclosing subfolders, and rename to ``prcp_<year>.nc``\n",
    "(so that if we repeat this for subsequent files, the extracted ``*.nc`` files will end up in the same place)"
   ]
  },
  {
   "cell_type": "code",
   "execution_count": null,
   "metadata": {},
   "outputs": [],
   "source": []
  },
  {
   "cell_type": "markdown",
   "metadata": {},
   "source": [
    "#### 1d) Remove the extra subfolders that were extracted"
   ]
  },
  {
   "cell_type": "code",
   "execution_count": null,
   "metadata": {},
   "outputs": [],
   "source": []
  },
  {
   "cell_type": "markdown",
   "metadata": {},
   "source": [
    "### Part 2: put the above steps together into a loop to repeat the workflow for all of the NetCDF files"
   ]
  },
  {
   "cell_type": "code",
   "execution_count": null,
   "metadata": {},
   "outputs": [],
   "source": []
  },
  {
   "cell_type": "markdown",
   "metadata": {},
   "source": [
    "## Bonus Application -- Using ``os`` to find the location of an executable\n",
    "\n",
    "There are often times that you run an executable that is nested somewhere deep within your system path.  It can often be a good idea to know exactly where that executable is located.  This might help you one day from accidently using an older version of an executable, such as MODFLOW."
   ]
  },
  {
   "cell_type": "code",
   "execution_count": 63,
   "metadata": {
    "execution": {
     "iopub.execute_input": "2024-03-21T15:39:51.338693Z",
     "iopub.status.busy": "2024-03-21T15:39:51.338548Z",
     "iopub.status.idle": "2024-03-21T15:39:51.342324Z",
     "shell.execute_reply": "2024-03-21T15:39:51.341923Z"
    }
   },
   "outputs": [],
   "source": [
    "# Define two functions to help determine 'which' program you are using\n",
    "def is_exe(fpath):\n",
    "    \"\"\"\n",
    "    Return True if fpath is an executable, otherwise return False\n",
    "    \"\"\"\n",
    "    return os.path.isfile(fpath) and os.access(fpath, os.X_OK)\n",
    "\n",
    "def which(program):\n",
    "    \"\"\"\n",
    "    Locate the program and return its full path.  Return\n",
    "    None if the program cannot be located.\n",
    "    \"\"\"\n",
    "    fpath, fname = os.path.split(program)\n",
    "    if fpath:\n",
    "        if is_exe(program):\n",
    "            return program\n",
    "    else:\n",
    "        # test for exe in current working directory\n",
    "        if is_exe(program):\n",
    "            return program\n",
    "        # test for exe in path statement\n",
    "        for path in os.environ[\"PATH\"].split(os.pathsep):\n",
    "            path = path.strip('\"')\n",
    "            exe_file = os.path.join(path, program)\n",
    "            if is_exe(exe_file):\n",
    "                return exe_file\n",
    "    return None"
   ]
  },
  {
   "cell_type": "code",
   "execution_count": 64,
   "metadata": {
    "execution": {
     "iopub.execute_input": "2024-03-21T15:39:51.344126Z",
     "iopub.status.busy": "2024-03-21T15:39:51.343734Z",
     "iopub.status.idle": "2024-03-21T15:39:51.346976Z",
     "shell.execute_reply": "2024-03-21T15:39:51.346513Z"
    }
   },
   "outputs": [
    {
     "data": {
      "text/plain": [
       "'/home/runner/.local/bin/mf6'"
      ]
     },
     "execution_count": 64,
     "metadata": {},
     "output_type": "execute_result"
    }
   ],
   "source": [
    "which('mf6')"
   ]
  },
  {
   "cell_type": "code",
   "execution_count": null,
   "metadata": {},
   "outputs": [],
   "source": []
  }
 ],
 "metadata": {
  "kernelspec": {
   "display_name": "pyclass",
   "language": "python",
   "name": "python3"
  },
  "language_info": {
   "codemirror_mode": {
    "name": "ipython",
    "version": 3
   },
   "file_extension": ".py",
   "mimetype": "text/x-python",
   "name": "python",
   "nbconvert_exporter": "python",
   "pygments_lexer": "ipython3",
   "version": "3.11.8"
  }
 },
 "nbformat": 4,
 "nbformat_minor": 4
}
