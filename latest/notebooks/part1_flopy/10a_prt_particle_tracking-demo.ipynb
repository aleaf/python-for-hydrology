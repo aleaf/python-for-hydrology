{
 "cells": [
  {
   "cell_type": "markdown",
   "metadata": {},
   "source": [
    "# 10a: Particle tracking with MODFLOW 6 PRT\n",
    "In this exercise, we will use the MODFLOW 6 Particle Tracking (PRT) Model to simulate advective transport with a quadtree version of the Freyberg flow model. \n",
    "\n",
    "The PRT Model calculates three-dimensional, advective particle trajectories in flowing groundwater. The PRT Model is designed to work with the MODFLOW 6 Groundwater Flow (GWF) Model and uses the same spatial discretization, which may be represented using either a structured (DIS) or an unstructured (DISV) grid. The PRT Model replicates much of the functionality of MODPATH 7 and offers support for a much broader class of unstructured grids. The PRT Model can be run in the same simulation as the associated GWF Model or in a separate simulation that reads previously calculated flows from a binary budget file. Currently, the PRT Model documented does not support grids of DISU type, tracking of particles through advanced stress package features such as lakes or streams reaches, or exchange of particles between PRT models.\n",
    "\n",
    "This exercise demonstrates setting up and running the PRT Model in a separate simulation contained in a subfolder of the groundwater flow model workspace. We will also do some basic post-processing- making plots and exporting results to a GeoPackage for visualization in a GIS environment."
   ]
  },
  {
   "cell_type": "code",
   "execution_count": 1,
   "metadata": {
    "execution": {
     "iopub.execute_input": "2025-09-26T19:03:59.967656Z",
     "iopub.status.busy": "2025-09-26T19:03:59.967505Z",
     "iopub.status.idle": "2025-09-26T19:04:00.629584Z",
     "shell.execute_reply": "2025-09-26T19:04:00.629014Z"
    }
   },
   "outputs": [],
   "source": [
    "from IPython.display import clear_output, display\n",
    "import os\n",
    "from pathlib import Path\n",
    "\n",
    "import numpy as np\n",
    "import pandas as pd\n",
    "import geopandas as gpd\n",
    "import matplotlib.pyplot as plt\n",
    "from flopy.utils.gridintersect import GridIntersect\n",
    "import flopy\n"
   ]
  },
  {
   "cell_type": "markdown",
   "metadata": {},
   "source": [
    "The location of the contamination patch and the nodes that the define bounding cells of the patch are calculated below."
   ]
  },
  {
   "cell_type": "code",
   "execution_count": 2,
   "metadata": {
    "execution": {
     "iopub.execute_input": "2025-09-26T19:04:00.631421Z",
     "iopub.status.busy": "2025-09-26T19:04:00.631175Z",
     "iopub.status.idle": "2025-09-26T19:04:00.637079Z",
     "shell.execute_reply": "2025-09-26T19:04:00.636667Z"
    }
   },
   "outputs": [
    {
     "data": {
      "text/plain": [
       "((250.0, 7250.0), (750.0, 6500.0))"
      ]
     },
     "execution_count": 2,
     "metadata": {},
     "output_type": "execute_result"
    }
   ],
   "source": [
    "# patch upper left and lower right\n",
    "xmin, xmax = 250. * 1, 250. * 3\n",
    "ymin, ymax = (40 - 14) * 250., (40 - 11) * 250. \n",
    "\n",
    "csx, csy = [xmin, xmin, xmax, xmax, xmin], [ymin, ymax, ymax, ymin, ymin]\n",
    "polygon = [list(zip(csx, csy))]\n",
    "(xmin, ymax), (xmax, ymin)"
   ]
  },
  {
   "cell_type": "markdown",
   "metadata": {},
   "source": [
    "--------------------------\n",
    "\n",
    "### Define the workspace, model names and key options."
   ]
  },
  {
   "cell_type": "code",
   "execution_count": 3,
   "metadata": {
    "execution": {
     "iopub.execute_input": "2025-09-26T19:04:00.638478Z",
     "iopub.status.busy": "2025-09-26T19:04:00.638315Z",
     "iopub.status.idle": "2025-09-26T19:04:00.641402Z",
     "shell.execute_reply": "2025-09-26T19:04:00.640992Z"
    }
   },
   "outputs": [],
   "source": [
    "load_ws = Path('data/quadtree')\n",
    "gwf_ws = Path(\"temp/ex10a\")\n",
    "gwf_name = \"project\"\n",
    "#name_mp = f\"{name}_mp\"\n",
    "exe_name = 'mf6'\n",
    "\n",
    "# flow model output files to use with PRT\n",
    "headfile = f\"{gwf_name}.hds\"\n",
    "budgetfile = f\"{gwf_name}.cbc\"\n",
    "\n",
    "prt_name = f\"{gwf_name}-prt\"\n",
    "prt_model_ws = gwf_ws / 'prt'\n",
    "\n",
    "# PRT output files\n",
    "budgetfile_prt = f\"{prt_name}.cbc\"\n",
    "trackfile_prt = f\"{prt_name}.trk\"\n",
    "trackcsvfile_prt = f\"{prt_name}.trk.csv\"\n",
    "\n",
    "# if using \"local_z\" option\n",
    "# 1=start particles at top of cell\n",
    "# 0=start particles at bottom of cell\n",
    "# 1 resulted in Error: release point (z=29.899951638778955) is above grid top 29.886768340000000\n",
    "particle_release_zrpt = .99\n"
   ]
  },
  {
   "cell_type": "markdown",
   "metadata": {},
   "source": [
    "## Load the MODFLOW 6 Model\n",
    "\n",
    "Load a simulation object using `flopy.mf6.MFSimulation().load()`."
   ]
  },
  {
   "cell_type": "code",
   "execution_count": 4,
   "metadata": {
    "execution": {
     "iopub.execute_input": "2025-09-26T19:04:00.642728Z",
     "iopub.status.busy": "2025-09-26T19:04:00.642572Z",
     "iopub.status.idle": "2025-09-26T19:04:01.436199Z",
     "shell.execute_reply": "2025-09-26T19:04:01.435603Z"
    }
   },
   "outputs": [],
   "source": [
    "%%capture\n",
    "sim = flopy.mf6.MFSimulation.load(sim_name=gwf_name, exe_name=exe_name,\n",
    "                                  sim_ws=load_ws)"
   ]
  },
  {
   "cell_type": "markdown",
   "metadata": {},
   "source": [
    "### Load the groundwater flow model"
   ]
  },
  {
   "cell_type": "code",
   "execution_count": 5,
   "metadata": {
    "execution": {
     "iopub.execute_input": "2025-09-26T19:04:01.438028Z",
     "iopub.status.busy": "2025-09-26T19:04:01.437828Z",
     "iopub.status.idle": "2025-09-26T19:04:01.442037Z",
     "shell.execute_reply": "2025-09-26T19:04:01.441630Z"
    }
   },
   "outputs": [
    {
     "data": {
      "text/plain": [
       "xll:0.0; yll:0.0; rotation:0.0; units:meters; lenuni:2"
      ]
     },
     "execution_count": 5,
     "metadata": {},
     "output_type": "execute_result"
    }
   ],
   "source": [
    "gwf = sim.get_model(gwf_name)\n",
    "gwf.modelgrid"
   ]
  },
  {
   "cell_type": "markdown",
   "metadata": {},
   "source": [
    "### Change the workspace\n",
    "(so that we don't modify the original flow model)"
   ]
  },
  {
   "cell_type": "code",
   "execution_count": 6,
   "metadata": {
    "execution": {
     "iopub.execute_input": "2025-09-26T19:04:01.443425Z",
     "iopub.status.busy": "2025-09-26T19:04:01.443271Z",
     "iopub.status.idle": "2025-09-26T19:04:01.446060Z",
     "shell.execute_reply": "2025-09-26T19:04:01.445656Z"
    }
   },
   "outputs": [],
   "source": [
    "sim.set_sim_path(gwf_ws)"
   ]
  },
  {
   "cell_type": "markdown",
   "metadata": {},
   "source": [
    "### Add ``save_saturation`` and ``save_flows`` to the NPF Package\n",
    "(required for PRT)"
   ]
  },
  {
   "cell_type": "code",
   "execution_count": 7,
   "metadata": {
    "execution": {
     "iopub.execute_input": "2025-09-26T19:04:01.447379Z",
     "iopub.status.busy": "2025-09-26T19:04:01.447226Z",
     "iopub.status.idle": "2025-09-26T19:04:01.449562Z",
     "shell.execute_reply": "2025-09-26T19:04:01.449093Z"
    }
   },
   "outputs": [],
   "source": [
    "gwf.npf.save_saturation = True\n",
    "gwf.npf.save_flows = True"
   ]
  },
  {
   "cell_type": "markdown",
   "metadata": {},
   "source": [
    "### Write the model files"
   ]
  },
  {
   "cell_type": "code",
   "execution_count": 8,
   "metadata": {
    "execution": {
     "iopub.execute_input": "2025-09-26T19:04:01.450850Z",
     "iopub.status.busy": "2025-09-26T19:04:01.450698Z",
     "iopub.status.idle": "2025-09-26T19:04:01.958260Z",
     "shell.execute_reply": "2025-09-26T19:04:01.957707Z"
    }
   },
   "outputs": [],
   "source": [
    "%%capture\n",
    "sim.write_simulation()"
   ]
  },
  {
   "cell_type": "markdown",
   "metadata": {},
   "source": [
    "### Add `IFLOWFACE=6` information to the SFR Package\n",
    "This may not be necessary here because of the quadtree grid (that is refined in the stream cells), but it is often best practice.\n",
    "\n",
    "Particle tracking with numerical models is prone to the problem of weak sinks, where a sink (flux of water leaving a cell) is not strong enough to capture all of the flow through that cell. In other words, one or more cell faces still has outward flow, allowing water to pass through the cell. By default, PRT and MODPATH assume that sinks are distributed uniformly throughout a cell (`IFLOWFACE=0` or `IFACE=0`; see below). This setting is appropriate for wells, but for surface water features (especially small streams), this often prevents particles from discharging, leading to unrealistic pathlines and travel times. Some possible solutions:\n",
    "* reduce the grid size until all cells of interest are strong sinks\n",
    "* set `STOP_AT_WEAK_SINK=True` in the PRT Particle Release (PRP) input (or the equivalent setting in MODPATH), causing all particles to terminate at weak sinks. This option is often not appropriate for small streams, which in many cases should act as weak sinks (only capturing the shallowest particles).\\\n",
    "* set `IFLOWFACE=-1` or `IFACE=6` for cells with surface water boundary conditions, to instruct PRT or MODPATH to apply the sink discharge to the top face. In cells with small (weak) streams, assuming the stream bottom corresponds to the cell top, shallow particles that are near the top of the cell will discharge, while deeper particles will be allowed to pass through realistically. Abrams and others (2013) discuss this concept in more detail.\n",
    "\n",
    "**From the MODFLOW 6 I/O guide:**\n",
    "By default, flows associated with stress packages are assumed to be distributed uniformly over the volume of a cell.\n",
    "Distributed external inflows and outflows are reflected in the cell-cell flows calculated by the GWF Model, but they are\n",
    "not directly involved in determining the normal face velocities used to track a particle through the cell. The user can\n",
    "optionally assign a flow associated with a stress package to any face of the cell. Assignment of external flows is done by\n",
    "setting the value of an auxiliary package variable called IFLOWFACE to a value that corresponds to one of the cell faces.\n",
    "To accommodate non-rectangular cells, the IFLOWFACE numbering scheme in the PRT Model is based on clockwise\n",
    "ordering of the lateral cell faces. For a DIS-grid cell, IFLOWFACE = 1 corresponds to the “western” face, i.e., the face parallel to the y axis that has the lesser x coordinate. For a DISV-grid cell, IFLOWFACE = 1 corresponds to the face\n",
    "that extends in the clockwise direction from the first vertex listed for that cell in the CELL2D input block. IFLOWFACE\n",
    "numbering of lateral cell faces proceeds in clockwise direction. IFLOWFACE = -2 corresponds to the cell bottom, and\n",
    "IFLOWFACE = -1 corresponds to the cell top.\n",
    "\n",
    "**In MODPATH 7** (and earlier)\n",
    "`IFACE` is equivalent to `IFLOWFACE` in MODFLOW 6 PRT. Default `IFACE` values can be specified by package, or `IFACE` can be specified by cell (see the docs). A key difference is that `IFACE=6` corresponds to the top of the cell, and `IFACE=5` corresponds to the bottom."
   ]
  },
  {
   "cell_type": "markdown",
   "metadata": {},
   "source": [
    "#### Two ways to add `IFLOWFACE`\n",
    "\n",
    "**1) Using Flopy**\n",
    "\n",
    "Add an auxiliary column named `'iflowface'` to the Options block"
   ]
  },
  {
   "cell_type": "code",
   "execution_count": 9,
   "metadata": {
    "execution": {
     "iopub.execute_input": "2025-09-26T19:04:01.959995Z",
     "iopub.status.busy": "2025-09-26T19:04:01.959815Z",
     "iopub.status.idle": "2025-09-26T19:04:02.116956Z",
     "shell.execute_reply": "2025-09-26T19:04:02.116384Z"
    }
   },
   "outputs": [],
   "source": [
    "from copy import deepcopy\n",
    "\n",
    "gwf2 = deepcopy(gwf)"
   ]
  },
  {
   "cell_type": "code",
   "execution_count": 10,
   "metadata": {
    "execution": {
     "iopub.execute_input": "2025-09-26T19:04:02.118788Z",
     "iopub.status.busy": "2025-09-26T19:04:02.118627Z",
     "iopub.status.idle": "2025-09-26T19:04:02.122344Z",
     "shell.execute_reply": "2025-09-26T19:04:02.121862Z"
    }
   },
   "outputs": [
    {
     "data": {
      "text/plain": [
       "{internal}\n",
       "(rec.array([('auxiliary', 'iflowface')],\n",
       "          dtype=[('auxiliary_0', 'O'), ('auxiliary_1', 'O')]))"
      ]
     },
     "execution_count": 10,
     "metadata": {},
     "output_type": "execute_result"
    }
   ],
   "source": [
    "gwf2.sfr.auxiliary = ['iflowface']\n",
    "gwf2.sfr.auxiliary"
   ]
  },
  {
   "cell_type": "markdown",
   "metadata": {},
   "source": [
    "Add `iflowface` to the package data"
   ]
  },
  {
   "cell_type": "code",
   "execution_count": 11,
   "metadata": {
    "execution": {
     "iopub.execute_input": "2025-09-26T19:04:02.123737Z",
     "iopub.status.busy": "2025-09-26T19:04:02.123589Z",
     "iopub.status.idle": "2025-09-26T19:04:02.200371Z",
     "shell.execute_reply": "2025-09-26T19:04:02.199988Z"
    }
   },
   "outputs": [],
   "source": [
    "packagedata = pd.DataFrame(gwf2.sfr.packagedata.array)\n",
    "# insert the auxiliary column before the existing boundname column\n",
    "# (so that the boundname column is still last)\n",
    "packagedata.insert(len(packagedata.columns)-1, 'iflowface', -1)\n",
    "# make sure the iflowface column is an integer!\n",
    "packagedata['iflowface'] = packagedata['iflowface'].astype(int)\n",
    "# cast packagedata back to a recarray (required by Flopy)\n",
    "gwf2.sfr.packagedata.set_data(packagedata.to_records())"
   ]
  },
  {
   "cell_type": "markdown",
   "metadata": {},
   "source": [
    "This kind of worked, but if you compare to the original package data, you'll notice we've lost the boundnames.\n",
    "\n",
    "If this was successful, we'd then need to call `gwf.sfr.write()` to re-write the SFR Package input."
   ]
  },
  {
   "cell_type": "code",
   "execution_count": 12,
   "metadata": {
    "execution": {
     "iopub.execute_input": "2025-09-26T19:04:02.201757Z",
     "iopub.status.busy": "2025-09-26T19:04:02.201618Z",
     "iopub.status.idle": "2025-09-26T19:04:02.205657Z",
     "shell.execute_reply": "2025-09-26T19:04:02.205272Z"
    }
   },
   "outputs": [
    {
     "data": {
      "text/plain": [
       "rec.array([(0, (0, (2, 18)), 15.65968373, 5.00315229, 0.00016104, 16.49873908, 0.50063046, 3.5, '0.035', 1, 1., 0, -1., None),\n",
       "           (1, (1, (2, 20)), 15.65968373, 5.00945687, 0.00016104, 16.49621725, 0.50189137, 3.5, '0.035', 2, 1., 0, -1., None),\n",
       "           (2, (2, (2, 23)), 15.65968373, 5.01576145, 0.00016104, 16.49369542, 0.50315229, 3.5, '0.035', 2, 1., 0, -1., None),\n",
       "           (3, (3, (2, 25)), 15.65968373, 5.02206603, 0.00016104, 16.49117359, 0.50441321, 3.5, '0.035', 2, 1., 0, -1., None),\n",
       "           (4, (4, (2, 29)), 15.65968373, 5.02837061, 0.00016104, 16.48865175, 0.50567412, 3.5, '0.035', 2, 1., 0, -1., None)],\n",
       "          dtype=[('ifno', '<i8'), ('cellid', 'O'), ('rlen', '<f8'), ('rwid', '<f8'), ('rgrd', '<f8'), ('rtp', '<f8'), ('rbth', '<f8'), ('rhk', '<f8'), ('man', 'O'), ('ncon', '<i8'), ('ustrf', '<f8'), ('ndv', '<i8'), ('iflowface', '<f8'), ('boundname', 'O')])"
      ]
     },
     "execution_count": 12,
     "metadata": {},
     "output_type": "execute_result"
    }
   ],
   "source": [
    "gwf2.sfr.packagedata.array[:5]"
   ]
  },
  {
   "cell_type": "markdown",
   "metadata": {},
   "source": [
    "**Alternatively, we can write the model files, and then edit the SFR Package file directly.**\n",
    "\n",
    " This can often be a good strategy on real projects in that there is less potential for mistakes or unexpected outcomes like the missing boundnames above."
   ]
  },
  {
   "cell_type": "code",
   "execution_count": 13,
   "metadata": {
    "execution": {
     "iopub.execute_input": "2025-09-26T19:04:02.207024Z",
     "iopub.status.busy": "2025-09-26T19:04:02.206858Z",
     "iopub.status.idle": "2025-09-26T19:04:02.215289Z",
     "shell.execute_reply": "2025-09-26T19:04:02.214909Z"
    }
   },
   "outputs": [],
   "source": [
    "write_iflowface = True\n",
    "set_iflowface = -1\n",
    "#original_sfr_filename = load_ws / gwf.sfr.filename\n",
    "sfr_filename = gwf_ws / gwf.sfr.filename\n",
    "original_sfr_filename = sfr_filename\n",
    "new_sfr_lines = list()\n",
    "package_already_has_iflowface = False\n",
    "aux_entry_added = False\n",
    "boundnames = False\n",
    "with open(original_sfr_filename) as src:\n",
    "    for line in src:\n",
    "        normalized_line = ' '.join(line.lower().split()).lower()\n",
    "        if 'begin options' in normalized_line:\n",
    "            new_sfr_lines.append(line)\n",
    "            for line in src:\n",
    "                normalized_line = ' '.join(line.lower().split()).lower()\n",
    "                if 'boundnames' in normalized_line:\n",
    "                    boundnames = True\n",
    "                if 'auxiliary' in normalized_line:\n",
    "                    if 'iflowface' not in normalized_line:\n",
    "                        items = line.strip().split()\n",
    "                        items.append('iflowface')\n",
    "                        new_sfr_lines.append(f\"  {' '.join(items)}\\n\")\n",
    "                    else:\n",
    "                        new_sfr_lines.append(line)\n",
    "                        package_already_has_iflowface = True\n",
    "                    aux_entry_added = True\n",
    "                elif not aux_entry_added and 'end options' in normalized_line:\n",
    "                    new_sfr_lines.append('  auxiliary iflowface\\n')\n",
    "                    new_sfr_lines.append(line)\n",
    "                    aux_entry_added = True\n",
    "                    break\n",
    "                elif 'end options' in normalized_line:\n",
    "                    break\n",
    "                else:\n",
    "                    new_sfr_lines.append(line)\n",
    "        elif 'begin packagedata' in normalized_line:\n",
    "            new_sfr_lines.append(line)\n",
    "            for line in src:\n",
    "                if 'end packagedata' in line.lower():\n",
    "                    new_sfr_lines.append(line)\n",
    "                    break\n",
    "                items = line.strip().split()\n",
    "                # if there's a boundname column, it needs to be last\n",
    "                if boundnames:\n",
    "                    items.insert(-1, str(set_iflowface))\n",
    "                else:\n",
    "                    items.append(set_iflowface)\n",
    "                new_sfr_lines.append(f\"  {' '.join(items)}\\n\")\n",
    "        else:\n",
    "            new_sfr_lines.append(line)\n",
    "\n",
    "if write_iflowface and not package_already_has_iflowface:\n",
    "    with open(sfr_filename, 'w') as dest:\n",
    "        for line in new_sfr_lines:\n",
    "            dest.write(line)"
   ]
  },
  {
   "cell_type": "markdown",
   "metadata": {},
   "source": [
    "Run the simulation."
   ]
  },
  {
   "cell_type": "code",
   "execution_count": 14,
   "metadata": {
    "execution": {
     "iopub.execute_input": "2025-09-26T19:04:02.216567Z",
     "iopub.status.busy": "2025-09-26T19:04:02.216428Z",
     "iopub.status.idle": "2025-09-26T19:04:02.621043Z",
     "shell.execute_reply": "2025-09-26T19:04:02.620587Z"
    }
   },
   "outputs": [
    {
     "name": "stdout",
     "output_type": "stream",
     "text": [
      "FloPy is using the following executable to run the model: ../../../../../../../../../.local/bin/mf6\n",
      "                                   MODFLOW 6\n",
      "                U.S. GEOLOGICAL SURVEY MODULAR HYDROLOGIC MODEL\n",
      "                            VERSION 6.6.2 05/12/2025\n",
      "\n",
      "   MODFLOW 6 compiled May 24 2025 11:41:46 with Intel(R) Fortran Intel(R) 64\n",
      "   Compiler Classic for applications running on Intel(R) 64, Version 2021.7.0\n",
      "                             Build 20220726_000000\n",
      "\n",
      "This software has been approved for release by the U.S. Geological \n",
      "Survey (USGS). Although the software has been subjected to rigorous \n",
      "review, the USGS reserves the right to update the software as needed \n",
      "pursuant to further analysis and review. No warranty, expressed or \n",
      "implied, is made by the USGS or the U.S. Government as to the \n",
      "functionality of the software and related material nor shall the \n",
      "fact of release constitute any such warranty. Furthermore, the \n",
      "software is released on condition that neither the USGS nor the U.S. \n",
      "Government shall be held liable for any damages resulting from its \n",
      "authorized or unauthorized use. Also refer to the USGS Water \n",
      "Resources Software User Rights Notice for complete use, copyright, \n",
      "and distribution information.\n",
      "\n",
      " \n",
      " MODFLOW runs in SEQUENTIAL mode\n",
      " \n",
      " Run start date and time (yyyy/mm/dd hh:mm:ss): 2025/09/26 19:04:02\n",
      " \n",
      " Writing simulation list file: mfsim.lst\n",
      " Using Simulation name file: mfsim.nam\n",
      " \n",
      "    Solving:  Stress period:     1    Time step:     1\n"
     ]
    },
    {
     "name": "stdout",
     "output_type": "stream",
     "text": [
      " \n",
      " Run end date and time (yyyy/mm/dd hh:mm:ss): 2025/09/26 19:04:02\n",
      " Elapsed run time:  0.396 Seconds\n",
      " \n",
      "\n",
      "WARNING REPORT:\n",
      "\n",
      "  1. OPTIONS BLOCK VARIABLE 'UNIT_CONVERSION' IN FILE 'project.sfr' WAS\n",
      "     DEPRECATED IN VERSION 6.4.2. SETTING UNIT_CONVERSION DIRECTLY.\n",
      " Normal termination of simulation.\n"
     ]
    },
    {
     "data": {
      "text/plain": [
       "(True, [])"
      ]
     },
     "execution_count": 14,
     "metadata": {},
     "output_type": "execute_result"
    }
   ],
   "source": [
    "sim.run_simulation()"
   ]
  },
  {
   "cell_type": "markdown",
   "metadata": {},
   "source": [
    "## Create and Run the PRT model"
   ]
  },
  {
   "cell_type": "markdown",
   "metadata": {},
   "source": [
    "### Plot the model grid and the location of the contamination patch"
   ]
  },
  {
   "cell_type": "code",
   "execution_count": 15,
   "metadata": {
    "execution": {
     "iopub.execute_input": "2025-09-26T19:04:02.622486Z",
     "iopub.status.busy": "2025-09-26T19:04:02.622340Z",
     "iopub.status.idle": "2025-09-26T19:04:03.318393Z",
     "shell.execute_reply": "2025-09-26T19:04:03.317925Z"
    }
   },
   "outputs": [
    {
     "data": {
      "image/png": "[encoded data removed]",
      "text/plain": [
       "<Figure size 500x900 with 1 Axes>"
      ]
     },
     "metadata": {},
     "output_type": "display_data"
    }
   ],
   "source": [
    "fig, ax = plt.subplots(figsize=(5, 9))\n",
    "mm = flopy.plot.PlotMapView(gwf, layer=0, ax=ax)\n",
    "\n",
    "mm.plot_bc('SFR', color=\"b\", plotAll=True)\n",
    "mm.plot_bc('WEL', plotAll=True)\n",
    "mm.plot_inactive(alpha=0.75)\n",
    "\n",
    "mm.plot_grid(lw=0.25, color='grey')\n",
    "\n",
    "ax.fill(csx, csy, color='#e534eb');"
   ]
  },
  {
   "cell_type": "markdown",
   "metadata": {},
   "source": [
    "### Get the model cells intersecting the contamination patch\n",
    "The `GridIntersect` utility in Flopy has an `intersect` method that can find the model cells intersecting a set of points, lines, or polygons. Since this is a DISV grid, these will be ``cell2d`` values (that are the same across the model layers). Similarly, for a structured grid, `GridIntersect` would return row, column locations."
   ]
  },
  {
   "cell_type": "code",
   "execution_count": 16,
   "metadata": {
    "execution": {
     "iopub.execute_input": "2025-09-26T19:04:03.319835Z",
     "iopub.status.busy": "2025-09-26T19:04:03.319689Z",
     "iopub.status.idle": "2025-09-26T19:04:03.399375Z",
     "shell.execute_reply": "2025-09-26T19:04:03.398925Z"
    }
   },
   "outputs": [
    {
     "data": {
      "text/plain": [
       "array([1352, 1353, 1459, 1460, 1581, 1582])"
      ]
     },
     "execution_count": 16,
     "metadata": {},
     "output_type": "execute_result"
    }
   ],
   "source": [
    "gx = GridIntersect(gwf.modelgrid)\n",
    "results = gx.intersect(polygon, 'Polygon')\n",
    "particle_start_nodes = results.cellids.astype(int)\n",
    "particle_start_nodes"
   ]
  },
  {
   "cell_type": "markdown",
   "metadata": {},
   "source": [
    "### Instantiate the MODFLOW 6 prt model\n",
    "and discretization packages"
   ]
  },
  {
   "cell_type": "code",
   "execution_count": 17,
   "metadata": {
    "execution": {
     "iopub.execute_input": "2025-09-26T19:04:03.400814Z",
     "iopub.status.busy": "2025-09-26T19:04:03.400657Z",
     "iopub.status.idle": "2025-09-26T19:04:03.419395Z",
     "shell.execute_reply": "2025-09-26T19:04:03.418876Z"
    }
   },
   "outputs": [],
   "source": [
    "prt_sim = flopy.mf6.MFSimulation(sim_name=prt_name, sim_ws=prt_model_ws)\n",
    "\n",
    "# Instantiate the MODFLOW 6 temporal discretization package\n",
    "flopy.mf6.modflow.mftdis.ModflowTdis(\n",
    "    prt_sim,\n",
    "    time_units=\"DAYS\",\n",
    "    nper=1,\n",
    "    perioddata=[(1, 1, 1)],  # perlen, nstp, tsmult\n",
    ")\n",
    "prt = flopy.mf6.ModflowPrt(\n",
    "    prt_sim, modelname=prt_name, model_nam_file=f\"{prt_name}.nam\"\n",
    ")\n",
    "\n",
    "# Instantiate the MODFLOW 6 prt discretization package\n",
    "nlay, ncells_per_layer = gwf.dis.botm.array.shape\n",
    "disv = flopy.mf6.ModflowGwfdisv(\n",
    "    prt,\n",
    "    nlay=nlay,\n",
    "    ncpl=gwf.dis.ncpl.array,\n",
    "    nvert=gwf.dis.nvert.array,\n",
    "    length_units=gwf.dis.length_units.array,\n",
    "    top=gwf.dis.top.array,\n",
    "    botm=gwf.dis.botm.array,\n",
    "    vertices=gwf.dis.vertices.array,\n",
    "    cell2d=gwf.dis.cell2d.array,\n",
    "    idomain=gwf.dis.idomain.array,\n",
    "    xorigin=gwf.dis.xorigin.array,\n",
    "    yorigin=gwf.dis.yorigin.array,\n",
    ")"
   ]
  },
  {
   "cell_type": "markdown",
   "metadata": {},
   "source": [
    "### Instantiate the MODFLOW 6 PRT Model Input Package.\n",
    "\n",
    "**First make an ``izone`` array** with a zone number for each cell. The \"izone\" for the model cell will be reported in the PRT output, allowing us to more easily track where particles go, and where they ultimately discharge. For example, if we start particles at the water table, we can determine the contributing area for a stream or other boundary condition, by assigning an izone to those cells. One of the izone numbers can be designated as an ``istopzone``; particles entering this zone will be terminated regardless of whether the zone is a strong sink or not.\n",
    "\n",
    "In this example, we'll assign different izone numbers to SFR and Well Package cells."
   ]
  },
  {
   "cell_type": "code",
   "execution_count": 18,
   "metadata": {
    "execution": {
     "iopub.execute_input": "2025-09-26T19:04:03.420821Z",
     "iopub.status.busy": "2025-09-26T19:04:03.420665Z",
     "iopub.status.idle": "2025-09-26T19:04:03.423926Z",
     "shell.execute_reply": "2025-09-26T19:04:03.423411Z"
    }
   },
   "outputs": [],
   "source": [
    "# start with a default zone of 0\n",
    "izone_array = np.zeros((nlay, ncells_per_layer), dtype=int)\n",
    "\n",
    "# get the locations of SFR cells\n",
    "sfr_k, sfr_cellid = zip(*gwf.sfr.packagedata.array['cellid'])\n",
    "sfr_k[:10], sfr_cellid[:10]\n",
    "\n",
    "izones = {\n",
    "    'wel': 1,\n",
    "    'sfr': 2\n",
    "}"
   ]
  },
  {
   "cell_type": "markdown",
   "metadata": {},
   "source": [
    "**Assign SFR cells to zone 2**"
   ]
  },
  {
   "cell_type": "code",
   "execution_count": 19,
   "metadata": {
    "execution": {
     "iopub.execute_input": "2025-09-26T19:04:03.425334Z",
     "iopub.status.busy": "2025-09-26T19:04:03.425180Z",
     "iopub.status.idle": "2025-09-26T19:04:03.427691Z",
     "shell.execute_reply": "2025-09-26T19:04:03.427211Z"
    }
   },
   "outputs": [],
   "source": [
    "izone_array[sfr_k, sfr_cellid] = izones['sfr']"
   ]
  },
  {
   "cell_type": "markdown",
   "metadata": {},
   "source": [
    "**Assign wells to zone 1**\n",
    "Using the stress period data. Note that in models with more than one stress period, different wells may be represented in different stress periods."
   ]
  },
  {
   "cell_type": "code",
   "execution_count": 20,
   "metadata": {
    "execution": {
     "iopub.execute_input": "2025-09-26T19:04:03.429027Z",
     "iopub.status.busy": "2025-09-26T19:04:03.428854Z",
     "iopub.status.idle": "2025-09-26T19:04:03.433788Z",
     "shell.execute_reply": "2025-09-26T19:04:03.433290Z"
    }
   },
   "outputs": [],
   "source": [
    "well_k = list()\n",
    "well_cellid = list()\n",
    "for per, recarray in gwf.wel.stress_period_data.data.items():\n",
    "    well_k_per, well_cellid_per = zip(*recarray['cellid'])\n",
    "    well_k.append(well_k_per)\n",
    "    well_cellid.append(well_cellid_per)\n",
    "\n",
    "izone_array[well_k, well_cellid] = izones['wel']"
   ]
  },
  {
   "cell_type": "markdown",
   "metadata": {},
   "source": [
    "**Make the package**"
   ]
  },
  {
   "cell_type": "code",
   "execution_count": 21,
   "metadata": {
    "execution": {
     "iopub.execute_input": "2025-09-26T19:04:03.435083Z",
     "iopub.status.busy": "2025-09-26T19:04:03.434934Z",
     "iopub.status.idle": "2025-09-26T19:04:03.440347Z",
     "shell.execute_reply": "2025-09-26T19:04:03.439864Z"
    }
   },
   "outputs": [
    {
     "data": {
      "text/plain": [
       "package_name = mip\n",
       "filename = project-prt.mip\n",
       "package_type = mip\n",
       "model_or_simulation_package = model\n",
       "model_name = project-prt\n",
       "\n",
       "Block griddata\n",
       "--------------------\n",
       "porosity\n",
       "{constant 0.1}\n",
       "\n",
       "izone\n",
       "Layer_1{internal}\n",
       "(array([0, 0, 0, ..., 0, 0, 0], shape=(5108,), dtype=int32))\n",
       "Layer_2{internal}\n",
       "(array([0, 0, 0, ..., 0, 0, 0], shape=(5108,), dtype=int32))\n",
       "Layer_3{internal}\n",
       "(array([0, 0, 0, ..., 0, 0, 0], shape=(5108,), dtype=int32))\n",
       "\n"
      ]
     },
     "execution_count": 21,
     "metadata": {},
     "output_type": "execute_result"
    }
   ],
   "source": [
    "flopy.mf6.ModflowPrtmip(prt,\n",
    "                        porosity=0.1, \n",
    "                        izone=izone_array\n",
    "                        )   "
   ]
  },
  {
   "cell_type": "markdown",
   "metadata": {},
   "source": [
    "### Create the particle start data\n",
    "From the nodes intersecting the polygon we made above, develop a DataFrame of particle start locations. For simplicity, we are just starting a single particle in each cell, but since the x and y are in local (model) coordinates, it would be fairly straightforward to start multiple particles in each cell on a finer spacing. "
   ]
  },
  {
   "cell_type": "code",
   "execution_count": 22,
   "metadata": {
    "execution": {
     "iopub.execute_input": "2025-09-26T19:04:03.441766Z",
     "iopub.status.busy": "2025-09-26T19:04:03.441613Z",
     "iopub.status.idle": "2025-09-26T19:04:03.450886Z",
     "shell.execute_reply": "2025-09-26T19:04:03.450410Z"
    }
   },
   "outputs": [
    {
     "data": {
      "text/html": [
       "<div>\n",
       "<style scoped>\n",
       "    .dataframe tbody tr th:only-of-type {\n",
       "        vertical-align: middle;\n",
       "    }\n",
       "\n",
       "    .dataframe tbody tr th {\n",
       "        vertical-align: top;\n",
       "    }\n",
       "\n",
       "    .dataframe thead th {\n",
       "        text-align: right;\n",
       "    }\n",
       "</style>\n",
       "<table border=\"1\" class=\"dataframe\">\n",
       "  <thead>\n",
       "    <tr style=\"text-align: right;\">\n",
       "      <th></th>\n",
       "      <th>irptno</th>\n",
       "      <th>k</th>\n",
       "      <th>cell2d</th>\n",
       "      <th>xrpt</th>\n",
       "      <th>yrpt</th>\n",
       "      <th>zrpt</th>\n",
       "      <th>boundname</th>\n",
       "    </tr>\n",
       "  </thead>\n",
       "  <tbody>\n",
       "    <tr>\n",
       "      <th>0</th>\n",
       "      <td>0</td>\n",
       "      <td>0</td>\n",
       "      <td>1352</td>\n",
       "      <td>375.0</td>\n",
       "      <td>7125.0</td>\n",
       "      <td>0.99</td>\n",
       "      <td>prt_1352</td>\n",
       "    </tr>\n",
       "    <tr>\n",
       "      <th>1</th>\n",
       "      <td>1</td>\n",
       "      <td>0</td>\n",
       "      <td>1353</td>\n",
       "      <td>625.0</td>\n",
       "      <td>7125.0</td>\n",
       "      <td>0.99</td>\n",
       "      <td>prt_1353</td>\n",
       "    </tr>\n",
       "    <tr>\n",
       "      <th>2</th>\n",
       "      <td>2</td>\n",
       "      <td>0</td>\n",
       "      <td>1459</td>\n",
       "      <td>375.0</td>\n",
       "      <td>6875.0</td>\n",
       "      <td>0.99</td>\n",
       "      <td>prt_1459</td>\n",
       "    </tr>\n",
       "    <tr>\n",
       "      <th>3</th>\n",
       "      <td>3</td>\n",
       "      <td>0</td>\n",
       "      <td>1460</td>\n",
       "      <td>625.0</td>\n",
       "      <td>6875.0</td>\n",
       "      <td>0.99</td>\n",
       "      <td>prt_1460</td>\n",
       "    </tr>\n",
       "    <tr>\n",
       "      <th>4</th>\n",
       "      <td>4</td>\n",
       "      <td>0</td>\n",
       "      <td>1581</td>\n",
       "      <td>375.0</td>\n",
       "      <td>6625.0</td>\n",
       "      <td>0.99</td>\n",
       "      <td>prt_1581</td>\n",
       "    </tr>\n",
       "    <tr>\n",
       "      <th>5</th>\n",
       "      <td>5</td>\n",
       "      <td>0</td>\n",
       "      <td>1582</td>\n",
       "      <td>625.0</td>\n",
       "      <td>6625.0</td>\n",
       "      <td>0.99</td>\n",
       "      <td>prt_1582</td>\n",
       "    </tr>\n",
       "  </tbody>\n",
       "</table>\n",
       "</div>"
      ],
      "text/plain": [
       "   irptno  k  cell2d   xrpt    yrpt  zrpt boundname\n",
       "0       0  0    1352  375.0  7125.0  0.99  prt_1352\n",
       "1       1  0    1353  625.0  7125.0  0.99  prt_1353\n",
       "2       2  0    1459  375.0  6875.0  0.99  prt_1459\n",
       "3       3  0    1460  625.0  6875.0  0.99  prt_1460\n",
       "4       4  0    1581  375.0  6625.0  0.99  prt_1581\n",
       "5       5  0    1582  625.0  6625.0  0.99  prt_1582"
      ]
     },
     "execution_count": 22,
     "metadata": {},
     "output_type": "execute_result"
    }
   ],
   "source": [
    "# release particles at each row, column location\n",
    "prt_start_x, prt_start_y = gwf.modelgrid.get_local_coords(\n",
    "    gwf.modelgrid.xcellcenters[particle_start_nodes], \n",
    "    gwf.modelgrid.ycellcenters[particle_start_nodes])\n",
    "\n",
    "prt_start_data = pd.DataFrame({\n",
    "    'irptno': np.arange(len(prt_start_x.ravel())),\n",
    "    'k': 0,\n",
    "    'cell2d': particle_start_nodes,\n",
    "    'xrpt': prt_start_x.ravel(),\n",
    "    'yrpt': prt_start_y.ravel(),\n",
    "    # start particles near top of saturation in cell with local_z=True\n",
    "    'zrpt': particle_release_zrpt, #[1] * len(prt_i) ,\n",
    "    # generic boundname for now;\n",
    "    # could be used to differentiate source areas\n",
    "    'boundname': [f'prt_{cell2d}' for cell2d in particle_start_nodes]\n",
    "})\n",
    "#prt_start_data = prt_particle_data\n",
    "prt_start_data"
   ]
  },
  {
   "cell_type": "markdown",
   "metadata": {},
   "source": [
    "Alternatively, the [Modflow 6 Examples](https://github.com/MODFLOW-ORG/modflow6-examples/blob/develop/scripts/ex-prt-mp7-p02.py) illustrate functionality in Flopy to generate evenly spaced particles along cell faces for MODPATH models, and then convert the results to PRT format (if you can get it to work; search the MODFLOW 6 Examples repository for \"``ModflowPrtprp``\")"
   ]
  },
  {
   "cell_type": "code",
   "execution_count": 23,
   "metadata": {
    "execution": {
     "iopub.execute_input": "2025-09-26T19:04:03.452302Z",
     "iopub.status.busy": "2025-09-26T19:04:03.452147Z",
     "iopub.status.idle": "2025-09-26T19:04:03.526249Z",
     "shell.execute_reply": "2025-09-26T19:04:03.525820Z"
    }
   },
   "outputs": [
    {
     "data": {
      "text/plain": [
       "[(0,\n",
       "  (0, 1352),\n",
       "  np.float64(291.6666666666667),\n",
       "  np.float64(7041.666666666667),\n",
       "  np.float64(25.157748113333334)),\n",
       " (1,\n",
       "  (0, 1352),\n",
       "  np.float64(375.0),\n",
       "  np.float64(7041.666666666667),\n",
       "  np.float64(25.157748113333334)),\n",
       " (2,\n",
       "  (0, 1352),\n",
       "  np.float64(458.33333333333337),\n",
       "  np.float64(7041.666666666667),\n",
       "  np.float64(25.157748113333334)),\n",
       " (3,\n",
       "  (0, 1352),\n",
       "  np.float64(291.6666666666667),\n",
       "  np.float64(7125.0),\n",
       "  np.float64(25.157748113333334)),\n",
       " (4,\n",
       "  (0, 1352),\n",
       "  np.float64(375.0),\n",
       "  np.float64(7125.0),\n",
       "  np.float64(25.157748113333334)),\n",
       " (5,\n",
       "  (0, 1352),\n",
       "  np.float64(458.33333333333337),\n",
       "  np.float64(7125.0),\n",
       "  np.float64(25.157748113333334)),\n",
       " (6,\n",
       "  (0, 1352),\n",
       "  np.float64(291.6666666666667),\n",
       "  np.float64(7208.333333333334),\n",
       "  np.float64(25.157748113333334)),\n",
       " (7,\n",
       "  (0, 1352),\n",
       "  np.float64(375.0),\n",
       "  np.float64(7208.333333333334),\n",
       "  np.float64(25.157748113333334)),\n",
       " (8,\n",
       "  (0, 1352),\n",
       "  np.float64(458.33333333333337),\n",
       "  np.float64(7208.333333333334),\n",
       "  np.float64(25.157748113333334)),\n",
       " (9,\n",
       "  (0, 1352),\n",
       "  np.float64(291.6666666666667),\n",
       "  np.float64(7041.666666666667),\n",
       "  np.float64(26.95494016)),\n",
       " (10,\n",
       "  (0, 1352),\n",
       "  np.float64(375.0),\n",
       "  np.float64(7041.666666666667),\n",
       "  np.float64(26.95494016)),\n",
       " (11,\n",
       "  (0, 1352),\n",
       "  np.float64(458.33333333333337),\n",
       "  np.float64(7041.666666666667),\n",
       "  np.float64(26.95494016)),\n",
       " (12,\n",
       "  (0, 1352),\n",
       "  np.float64(291.6666666666667),\n",
       "  np.float64(7125.0),\n",
       "  np.float64(26.95494016)),\n",
       " (13,\n",
       "  (0, 1352),\n",
       "  np.float64(375.0),\n",
       "  np.float64(7125.0),\n",
       "  np.float64(26.95494016)),\n",
       " (14,\n",
       "  (0, 1352),\n",
       "  np.float64(458.33333333333337),\n",
       "  np.float64(7125.0),\n",
       "  np.float64(26.95494016)),\n",
       " (15,\n",
       "  (0, 1352),\n",
       "  np.float64(291.6666666666667),\n",
       "  np.float64(7208.333333333334),\n",
       "  np.float64(26.95494016)),\n",
       " (16,\n",
       "  (0, 1352),\n",
       "  np.float64(375.0),\n",
       "  np.float64(7208.333333333334),\n",
       "  np.float64(26.95494016)),\n",
       " (17,\n",
       "  (0, 1352),\n",
       "  np.float64(458.33333333333337),\n",
       "  np.float64(7208.333333333334),\n",
       "  np.float64(26.95494016)),\n",
       " (18,\n",
       "  (0, 1352),\n",
       "  np.float64(291.6666666666667),\n",
       "  np.float64(7041.666666666667),\n",
       "  np.float64(28.752132206666666)),\n",
       " (19,\n",
       "  (0, 1352),\n",
       "  np.float64(375.0),\n",
       "  np.float64(7041.666666666667),\n",
       "  np.float64(28.752132206666666)),\n",
       " (20,\n",
       "  (0, 1352),\n",
       "  np.float64(458.33333333333337),\n",
       "  np.float64(7041.666666666667),\n",
       "  np.float64(28.752132206666666)),\n",
       " (21,\n",
       "  (0, 1352),\n",
       "  np.float64(291.6666666666667),\n",
       "  np.float64(7125.0),\n",
       "  np.float64(28.752132206666666)),\n",
       " (22,\n",
       "  (0, 1352),\n",
       "  np.float64(375.0),\n",
       "  np.float64(7125.0),\n",
       "  np.float64(28.752132206666666)),\n",
       " (23,\n",
       "  (0, 1352),\n",
       "  np.float64(458.33333333333337),\n",
       "  np.float64(7125.0),\n",
       "  np.float64(28.752132206666666)),\n",
       " (24,\n",
       "  (0, 1352),\n",
       "  np.float64(291.6666666666667),\n",
       "  np.float64(7208.333333333334),\n",
       "  np.float64(28.752132206666666)),\n",
       " (25,\n",
       "  (0, 1352),\n",
       "  np.float64(375.0),\n",
       "  np.float64(7208.333333333334),\n",
       "  np.float64(28.752132206666666)),\n",
       " (26,\n",
       "  (0, 1352),\n",
       "  np.float64(458.33333333333337),\n",
       "  np.float64(7208.333333333334),\n",
       "  np.float64(28.752132206666666))]"
      ]
     },
     "execution_count": 23,
     "metadata": {},
     "output_type": "execute_result"
    }
   ],
   "source": [
    "sd = flopy.modpath.CellDataType()\n",
    "mp7_particle_data = flopy.modpath.NodeParticleData(subdivisiondata=[sd],\n",
    "                                   nodes=list(particle_start_nodes))\n",
    "prt_particle_data = list(mp7_particle_data.to_prp(prt.modelgrid))\n",
    "prt_particle_data"
   ]
  },
  {
   "cell_type": "markdown",
   "metadata": {},
   "source": [
    "### Instantiate the MODFLOW 6 prt particle release point (PRP) package\n",
    "\n",
    "**Notes:**\n",
    "\n",
    "``local_z``—indicates that “zrpt” [in the particle start data] defines the local z coordinate of the release point within the cell, with value of 0\n",
    "at the bottom and 1 at the top of the cell. If the cell is partially saturated at release time, the top of the cell is\n",
    "considered to be the water table elevation (the head in the cell) rather than the top defined by the user.  \n",
    "\n",
    "``istopzone``—integer value defining the stop zone number. If cells have been assigned IZONE values in the\n",
    "GRIDDATA block, a particle terminates if it enters a cell whose IZONE value matches ISTOPZONE. An\n",
    "ISTOPZONE value of zero indicates that there is no stop zone. The default value is zero. This way we can allow weak sinks but have exceptions where the particles will stop anyways.  \n",
    "\n",
    "See the MODFLOW 6 Description of Input and Output for more options\n"
   ]
  },
  {
   "cell_type": "code",
   "execution_count": 24,
   "metadata": {
    "execution": {
     "iopub.execute_input": "2025-09-26T19:04:03.527704Z",
     "iopub.status.busy": "2025-09-26T19:04:03.527541Z",
     "iopub.status.idle": "2025-09-26T19:04:03.538572Z",
     "shell.execute_reply": "2025-09-26T19:04:03.538087Z"
    }
   },
   "outputs": [
    {
     "data": {
      "text/plain": [
       "package_name = prp_0\n",
       "filename = project-prt.prp\n",
       "package_type = prp\n",
       "model_or_simulation_package = model\n",
       "model_name = project-prt\n",
       "\n",
       "Block options\n",
       "--------------------\n",
       "boundnames\n",
       "{internal}\n",
       "(True)\n",
       "\n",
       "exit_solve_tolerance\n",
       "{internal}\n",
       "(1e-05)\n",
       "\n",
       "local_z\n",
       "{internal}\n",
       "(True)\n",
       "\n",
       "extend_tracking\n",
       "{internal}\n",
       "(True)\n",
       "\n",
       "\n",
       "Block dimensions\n",
       "--------------------\n",
       "nreleasepts\n",
       "{internal}\n",
       "(6)\n",
       "\n",
       "\n",
       "Block packagedata\n",
       "--------------------\n",
       "packagedata\n",
       "{internal}\n",
       "(rec.array([(0, (0, 1352), 375., 7125., 0.99, 'prt_1352'),\n",
       "           (1, (0, 1353), 625., 7125., 0.99, 'prt_1353'),\n",
       "           (2, (0, 1459), 375., 6875., 0.99, 'prt_1459'),\n",
       "           (3, (0, 1460), 625., 6875., 0.99, 'prt_1460'),\n",
       "           (4, (0, 1581), 375., 6625., 0.99, 'prt_1581'),\n",
       "           (5, (0, 1582), 625., 6625., 0.99, 'prt_1582')],\n",
       "          dtype=[('irptno', '<i8'), ('cellid', 'O'), ('xrpt', '<f8'), ('yrpt', '<f8'), ('zrpt', '<f8'), ('boundname', 'O')]))\n",
       "\n",
       "\n",
       "Block period\n",
       "--------------------\n",
       "perioddata\n",
       "{internal}\n",
       "(rec.array([('FIRST', None)],\n",
       "          dtype=[('releasesetting', 'O'), ('releasesetting_data', 'O')]))\n",
       "\n"
      ]
     },
     "execution_count": 24,
     "metadata": {},
     "output_type": "execute_result"
    }
   ],
   "source": [
    "flopy.mf6.ModflowPrtprp(\n",
    "    prt,\n",
    "    nreleasepts=len(prt_start_data),\n",
    "    packagedata=prt_start_data.to_records(index=False).tolist(),\n",
    "    local_z=True,\n",
    "    boundnames=True,\n",
    "    perioddata={0: [\"FIRST\"]},\n",
    "    exit_solve_tolerance=1e-5,\n",
    "    extend_tracking=True,\n",
    "    #istopzone=istopzone\n",
    ")"
   ]
  },
  {
   "cell_type": "markdown",
   "metadata": {},
   "source": [
    "### Instantiate the MODFLOW 6 PRT output control package\n",
    "\n",
    "**Notes:**\n",
    "PRT outputs a record each time a:\n",
    "\n",
    "  0) particle was released\n",
    "  1) particle exited a cell\n",
    "  2) time step ended\n",
    "  3) particle terminated\n",
    "  4) particle entered a weak sink cell\n",
    "  5) user-specified tracking time\n",
    "    \n",
    "The code below shows how to input user-specified tracking times to Flopy. Depending on the problem, this may not be necessary in a real-world context, as there may already be many records from particles exiting cells. Therefore, `tracktimes=None` (no user-specified times) is ultimately input to Flopy."
   ]
  },
  {
   "cell_type": "code",
   "execution_count": 25,
   "metadata": {
    "execution": {
     "iopub.execute_input": "2025-09-26T19:04:03.539853Z",
     "iopub.status.busy": "2025-09-26T19:04:03.539705Z",
     "iopub.status.idle": "2025-09-26T19:04:03.549045Z",
     "shell.execute_reply": "2025-09-26T19:04:03.548647Z"
    }
   },
   "outputs": [
    {
     "data": {
      "text/plain": [
       "package_name = oc\n",
       "filename = project-prt.oc\n",
       "package_type = oc\n",
       "model_or_simulation_package = model\n",
       "model_name = project-prt\n",
       "\n",
       "Block options\n",
       "--------------------\n",
       "budget_filerecord\n",
       "{internal}\n",
       "(rec.array([('project-prt.cbc',)],\n",
       "          dtype=[('budgetfile', 'O')]))\n",
       "\n",
       "track_filerecord\n",
       "{internal}\n",
       "(rec.array([('project-prt.trk',)],\n",
       "          dtype=[('trackfile', 'O')]))\n",
       "\n",
       "trackcsv_filerecord\n",
       "{internal}\n",
       "(rec.array([('project-prt.trk.csv',)],\n",
       "          dtype=[('trackcsvfile', 'O')]))\n",
       "\n",
       "\n",
       "Block dimensions\n",
       "--------------------\n",
       "ntracktimes\n",
       "{internal}\n",
       "(0)\n",
       "\n",
       "\n",
       "Block period\n",
       "--------------------\n",
       "saverecord\n",
       "{internal}\n",
       "(rec.array([('BUDGET', 'ALL', None)],\n",
       "          dtype=[('rtype', 'O'), ('ocsetting', 'O'), ('ocsetting_data', 'O')]))\n",
       "\n",
       "printrecord\n",
       "None\n"
      ]
     },
     "execution_count": 25,
     "metadata": {},
     "output_type": "execute_result"
    }
   ],
   "source": [
    "budget_record = [budgetfile_prt]\n",
    "track_record = [trackfile_prt]\n",
    "trackcsv_record = [trackcsvfile_prt]\n",
    "# track positions every year for 100 years\n",
    "track_nyears = 100\n",
    "tracktimes = np.linspace(0, track_nyears*365.25, track_nyears+1)\n",
    "flopy.mf6.ModflowPrtoc(\n",
    "    prt,\n",
    "    budget_filerecord=budget_record,\n",
    "    track_filerecord=track_record,\n",
    "    trackcsv_filerecord=trackcsv_record,\n",
    "    ntracktimes=0,#len(tracktimes),\n",
    "    tracktimes=None,#[(t,) for t in tracktimes],\n",
    "    saverecord=[(\"BUDGET\", \"ALL\")],\n",
    ")"
   ]
  },
  {
   "cell_type": "markdown",
   "metadata": {},
   "source": [
    "### Instantiate the PRT Flow Model Interface and Explicit Model Solution Packages\n",
    "\n"
   ]
  },
  {
   "cell_type": "code",
   "execution_count": 26,
   "metadata": {
    "execution": {
     "iopub.execute_input": "2025-09-26T19:04:03.550302Z",
     "iopub.status.busy": "2025-09-26T19:04:03.550153Z",
     "iopub.status.idle": "2025-09-26T19:04:03.555122Z",
     "shell.execute_reply": "2025-09-26T19:04:03.554737Z"
    }
   },
   "outputs": [],
   "source": [
    "fmi_pd = [\n",
    "    (\"GWFHEAD\", os.path.relpath(gwf_ws / headfile, prt_model_ws)), #Path(f\"../{gwf_ws.name}/{headfile}\")),\n",
    "    (\"GWFBUDGET\", os.path.relpath(gwf_ws / budgetfile, prt_model_ws)) #Path(f\"../{gwf_ws.name}/{budgetfile}\")),\n",
    "]\n",
    "flopy.mf6.ModflowPrtfmi(prt, packagedata=fmi_pd)\n",
    "\n",
    "# Create an explicit model solution (EMS) for the MODFLOW 6 prt model\n",
    "ems = flopy.mf6.ModflowEms(\n",
    "    prt_sim,\n",
    "    filename=f\"{prt_name}.ems\",\n",
    ")\n",
    "sim.register_solution_package(ems, [prt.name])"
   ]
  },
  {
   "cell_type": "markdown",
   "metadata": {},
   "source": [
    "### Write the PRT input files and run the model"
   ]
  },
  {
   "cell_type": "code",
   "execution_count": 27,
   "metadata": {
    "execution": {
     "iopub.execute_input": "2025-09-26T19:04:03.556385Z",
     "iopub.status.busy": "2025-09-26T19:04:03.556239Z",
     "iopub.status.idle": "2025-09-26T19:04:03.876328Z",
     "shell.execute_reply": "2025-09-26T19:04:03.875844Z"
    }
   },
   "outputs": [
    {
     "name": "stdout",
     "output_type": "stream",
     "text": [
      "writing simulation...\n",
      "  writing simulation name file...\n",
      "  writing simulation tdis package...\n",
      "  writing solution package ems_-1...\n",
      "  writing model project-prt...\n",
      "    writing model name file...\n",
      "    writing package disv...\n"
     ]
    },
    {
     "name": "stdout",
     "output_type": "stream",
     "text": [
      "    writing package mip...\n",
      "    writing package prp_0...\n",
      "    writing package oc...\n",
      "    writing package fmi...\n"
     ]
    }
   ],
   "source": [
    "prt_sim.write_simulation()"
   ]
  },
  {
   "cell_type": "code",
   "execution_count": 28,
   "metadata": {
    "execution": {
     "iopub.execute_input": "2025-09-26T19:04:03.877718Z",
     "iopub.status.busy": "2025-09-26T19:04:03.877574Z",
     "iopub.status.idle": "2025-09-26T19:04:03.985301Z",
     "shell.execute_reply": "2025-09-26T19:04:03.984852Z"
    }
   },
   "outputs": [
    {
     "name": "stdout",
     "output_type": "stream",
     "text": [
      "FloPy is using the following executable to run the model: ../../../../../../../../../../.local/bin/mf6\n",
      "                                   MODFLOW 6\n",
      "                U.S. GEOLOGICAL SURVEY MODULAR HYDROLOGIC MODEL\n",
      "                            VERSION 6.6.2 05/12/2025\n",
      "\n",
      "   MODFLOW 6 compiled May 24 2025 11:41:46 with Intel(R) Fortran Intel(R) 64\n",
      "   Compiler Classic for applications running on Intel(R) 64, Version 2021.7.0\n",
      "                             Build 20220726_000000\n",
      "\n",
      "This software has been approved for release by the U.S. Geological \n",
      "Survey (USGS). Although the software has been subjected to rigorous \n",
      "review, the USGS reserves the right to update the software as needed \n",
      "pursuant to further analysis and review. No warranty, expressed or \n",
      "implied, is made by the USGS or the U.S. Government as to the \n",
      "functionality of the software and related material nor shall the \n",
      "fact of release constitute any such warranty. Furthermore, the \n",
      "software is released on condition that neither the USGS nor the U.S. \n",
      "Government shall be held liable for any damages resulting from its \n",
      "authorized or unauthorized use. Also refer to the USGS Water \n",
      "Resources Software User Rights Notice for complete use, copyright, \n",
      "and distribution information.\n",
      "\n",
      " \n",
      " MODFLOW runs in SEQUENTIAL mode\n",
      " \n",
      " Run start date and time (yyyy/mm/dd hh:mm:ss): 2025/09/26 19:04:03\n",
      " \n",
      " Writing simulation list file: mfsim.lst\n",
      " Using Simulation name file: mfsim.nam\n",
      " \n",
      "    Solving:  Stress period:     1    Time step:     1\n",
      " \n",
      " Run end date and time (yyyy/mm/dd hh:mm:ss): 2025/09/26 19:04:03\n",
      " Elapsed run time:  0.100 Seconds\n",
      " \n",
      " Normal termination of simulation.\n"
     ]
    },
    {
     "data": {
      "text/plain": [
       "(True, [])"
      ]
     },
     "execution_count": 28,
     "metadata": {},
     "output_type": "execute_result"
    }
   ],
   "source": [
    "prt_sim.run_simulation()"
   ]
  },
  {
   "cell_type": "markdown",
   "metadata": {},
   "source": [
    "## Post-Process the MODFLOW and PRT Results\n",
    "\n",
    "\n",
    "### Load MODFLOW and PRT results from the heads and pathline files\n",
    "\n",
    "Load the MODFLOW heads"
   ]
  },
  {
   "cell_type": "code",
   "execution_count": 29,
   "metadata": {
    "execution": {
     "iopub.execute_input": "2025-09-26T19:04:03.986676Z",
     "iopub.status.busy": "2025-09-26T19:04:03.986534Z",
     "iopub.status.idle": "2025-09-26T19:04:03.990620Z",
     "shell.execute_reply": "2025-09-26T19:04:03.990241Z"
    }
   },
   "outputs": [],
   "source": [
    "hobj = gwf.output.head()"
   ]
  },
  {
   "cell_type": "code",
   "execution_count": 30,
   "metadata": {
    "execution": {
     "iopub.execute_input": "2025-09-26T19:04:03.991839Z",
     "iopub.status.busy": "2025-09-26T19:04:03.991705Z",
     "iopub.status.idle": "2025-09-26T19:04:03.994199Z",
     "shell.execute_reply": "2025-09-26T19:04:03.993792Z"
    }
   },
   "outputs": [],
   "source": [
    "hds = hobj.get_data()"
   ]
  },
  {
   "cell_type": "markdown",
   "metadata": {},
   "source": [
    "Load the tracking CSV file"
   ]
  },
  {
   "cell_type": "code",
   "execution_count": 31,
   "metadata": {
    "execution": {
     "iopub.execute_input": "2025-09-26T19:04:03.995503Z",
     "iopub.status.busy": "2025-09-26T19:04:03.995357Z",
     "iopub.status.idle": "2025-09-26T19:04:04.005100Z",
     "shell.execute_reply": "2025-09-26T19:04:04.004579Z"
    }
   },
   "outputs": [
    {
     "data": {
      "text/html": [
       "<div>\n",
       "<style scoped>\n",
       "    .dataframe tbody tr th:only-of-type {\n",
       "        vertical-align: middle;\n",
       "    }\n",
       "\n",
       "    .dataframe tbody tr th {\n",
       "        vertical-align: top;\n",
       "    }\n",
       "\n",
       "    .dataframe thead th {\n",
       "        text-align: right;\n",
       "    }\n",
       "</style>\n",
       "<table border=\"1\" class=\"dataframe\">\n",
       "  <thead>\n",
       "    <tr style=\"text-align: right;\">\n",
       "      <th></th>\n",
       "      <th>kper</th>\n",
       "      <th>kstp</th>\n",
       "      <th>imdl</th>\n",
       "      <th>iprp</th>\n",
       "      <th>irpt</th>\n",
       "      <th>ilay</th>\n",
       "      <th>icell</th>\n",
       "      <th>izone</th>\n",
       "      <th>istatus</th>\n",
       "      <th>ireason</th>\n",
       "      <th>trelease</th>\n",
       "      <th>t</th>\n",
       "      <th>x</th>\n",
       "      <th>y</th>\n",
       "      <th>z</th>\n",
       "      <th>name</th>\n",
       "    </tr>\n",
       "  </thead>\n",
       "  <tbody>\n",
       "    <tr>\n",
       "      <th>0</th>\n",
       "      <td>1</td>\n",
       "      <td>1</td>\n",
       "      <td>1</td>\n",
       "      <td>1</td>\n",
       "      <td>1</td>\n",
       "      <td>1</td>\n",
       "      <td>1353</td>\n",
       "      <td>0</td>\n",
       "      <td>1</td>\n",
       "      <td>0</td>\n",
       "      <td>0.0</td>\n",
       "      <td>0.000000</td>\n",
       "      <td>375.000000</td>\n",
       "      <td>7125.0</td>\n",
       "      <td>29.843871</td>\n",
       "      <td>PRT_1352</td>\n",
       "    </tr>\n",
       "    <tr>\n",
       "      <th>1</th>\n",
       "      <td>1</td>\n",
       "      <td>1</td>\n",
       "      <td>1</td>\n",
       "      <td>1</td>\n",
       "      <td>1</td>\n",
       "      <td>1</td>\n",
       "      <td>1353</td>\n",
       "      <td>0</td>\n",
       "      <td>1</td>\n",
       "      <td>1</td>\n",
       "      <td>0.0</td>\n",
       "      <td>0.000000</td>\n",
       "      <td>375.000000</td>\n",
       "      <td>7125.0</td>\n",
       "      <td>29.650728</td>\n",
       "      <td>PRT_1352</td>\n",
       "    </tr>\n",
       "    <tr>\n",
       "      <th>2</th>\n",
       "      <td>1</td>\n",
       "      <td>1</td>\n",
       "      <td>1</td>\n",
       "      <td>1</td>\n",
       "      <td>1</td>\n",
       "      <td>1</td>\n",
       "      <td>1353</td>\n",
       "      <td>0</td>\n",
       "      <td>1</td>\n",
       "      <td>1</td>\n",
       "      <td>0.0</td>\n",
       "      <td>5600.493437</td>\n",
       "      <td>378.953010</td>\n",
       "      <td>7250.0</td>\n",
       "      <td>29.650728</td>\n",
       "      <td>PRT_1352</td>\n",
       "    </tr>\n",
       "    <tr>\n",
       "      <th>3</th>\n",
       "      <td>1</td>\n",
       "      <td>1</td>\n",
       "      <td>1</td>\n",
       "      <td>1</td>\n",
       "      <td>1</td>\n",
       "      <td>1</td>\n",
       "      <td>1198</td>\n",
       "      <td>0</td>\n",
       "      <td>1</td>\n",
       "      <td>1</td>\n",
       "      <td>0.0</td>\n",
       "      <td>11433.142331</td>\n",
       "      <td>402.113867</td>\n",
       "      <td>7500.0</td>\n",
       "      <td>29.417818</td>\n",
       "      <td>PRT_1352</td>\n",
       "    </tr>\n",
       "    <tr>\n",
       "      <th>4</th>\n",
       "      <td>1</td>\n",
       "      <td>1</td>\n",
       "      <td>1</td>\n",
       "      <td>1</td>\n",
       "      <td>1</td>\n",
       "      <td>1</td>\n",
       "      <td>1043</td>\n",
       "      <td>0</td>\n",
       "      <td>1</td>\n",
       "      <td>1</td>\n",
       "      <td>0.0</td>\n",
       "      <td>15357.870522</td>\n",
       "      <td>425.233970</td>\n",
       "      <td>7750.0</td>\n",
       "      <td>29.079618</td>\n",
       "      <td>PRT_1352</td>\n",
       "    </tr>\n",
       "  </tbody>\n",
       "</table>\n",
       "</div>"
      ],
      "text/plain": [
       "   kper  kstp  imdl  iprp  irpt  ilay  icell  izone  istatus  ireason  \\\n",
       "0     1     1     1     1     1     1   1353      0        1        0   \n",
       "1     1     1     1     1     1     1   1353      0        1        1   \n",
       "2     1     1     1     1     1     1   1353      0        1        1   \n",
       "3     1     1     1     1     1     1   1198      0        1        1   \n",
       "4     1     1     1     1     1     1   1043      0        1        1   \n",
       "\n",
       "   trelease             t           x       y          z      name  \n",
       "0       0.0      0.000000  375.000000  7125.0  29.843871  PRT_1352  \n",
       "1       0.0      0.000000  375.000000  7125.0  29.650728  PRT_1352  \n",
       "2       0.0   5600.493437  378.953010  7250.0  29.650728  PRT_1352  \n",
       "3       0.0  11433.142331  402.113867  7500.0  29.417818  PRT_1352  \n",
       "4       0.0  15357.870522  425.233970  7750.0  29.079618  PRT_1352  "
      ]
     },
     "execution_count": 31,
     "metadata": {},
     "output_type": "execute_result"
    }
   ],
   "source": [
    "particle_data = pd.read_csv(prt_model_ws / trackcsvfile_prt)\n",
    "particle_data.head()"
   ]
  },
  {
   "cell_type": "markdown",
   "metadata": {},
   "source": [
    "### Plot the heads and pathlines"
   ]
  },
  {
   "cell_type": "code",
   "execution_count": 32,
   "metadata": {
    "execution": {
     "iopub.execute_input": "2025-09-26T19:04:04.006389Z",
     "iopub.status.busy": "2025-09-26T19:04:04.006240Z",
     "iopub.status.idle": "2025-09-26T19:04:04.547081Z",
     "shell.execute_reply": "2025-09-26T19:04:04.546615Z"
    }
   },
   "outputs": [
    {
     "data": {
      "image/png": "[encoded data removed]",
      "text/plain": [
       "<Figure size 500x900 with 1 Axes>"
      ]
     },
     "metadata": {},
     "output_type": "display_data"
    }
   ],
   "source": [
    "fig, ax = plt.subplots(figsize=(5, 9))\n",
    "mm = flopy.plot.PlotMapView(model=gwf, layer=0, ax=ax)\n",
    "mm.plot_array(hds, masked_values=[1e30])\n",
    "\n",
    "mm.plot_bc('SFR', color='b', plotAll=True)\n",
    "mm.plot_bc('WEL', plotAll=True)\n",
    "mm.plot_ibound()\n",
    "mm.plot_pathline(particle_data, layer='all', color='blue', lw=1)\n",
    "mm.plot_grid(lw=0.2, color=\"0.5\")\n",
    "\n",
    "ax = plt.gca()\n",
    "ax.fill(csx, csy, color='#e534eb', zorder=100, alpha=.75);"
   ]
  },
  {
   "cell_type": "code",
   "execution_count": 33,
   "metadata": {
    "execution": {
     "iopub.execute_input": "2025-09-26T19:04:04.548544Z",
     "iopub.status.busy": "2025-09-26T19:04:04.548399Z",
     "iopub.status.idle": "2025-09-26T19:04:28.552913Z",
     "shell.execute_reply": "2025-09-26T19:04:28.552403Z"
    }
   },
   "outputs": [
    {
     "data": {
      "image/png": "[encoded data removed]",
      "text/plain": [
       "<Figure size 500x900 with 2 Axes>"
      ]
     },
     "metadata": {},
     "output_type": "display_data"
    }
   ],
   "source": [
    "fig, ax = plt.subplots(figsize=(5, 9))\n",
    "\n",
    "mm = flopy.plot.PlotMapView(model=gwf, ax=ax, layer=0)\n",
    "mm.plot_array(hds, masked_values=[1e30])\n",
    "mm.plot_bc('SFR', color='b', plotAll=True)\n",
    "mm.plot_bc('WEL', plotAll=True)\n",
    "mm.plot_ibound()\n",
    "mm.plot_grid(lw=0.2, color=\"0.5\")\n",
    "\n",
    "df = particle_data\n",
    "vmin, vmax = df['t'].min(), df['t'].max()\n",
    "\n",
    "times = list(range(0, 74001, 1000))\n",
    "for ix in range(1, len(times)):\n",
    "    tmp = df[(df['t'] >= times[ix - 1]) & (df['t'] < times[ix])]\n",
    "    s = ax.scatter(tmp['x'].values, tmp['y'].values, s=5, c=tmp['t'].values, \n",
    "                   vmin=vmin, vmax=vmax, cmap=\"magma\")\n",
    "    ax.set_title(f\"{times[ix - 1]} - {times[ix]} days\")\n",
    "    if ix == 1:\n",
    "        cbar = fig.colorbar(s, shrink=0.7)\n",
    "        cbar.set_label('particle travel time from source', rotation=270, labelpad=14)\n",
    "    display(fig)\n",
    "    clear_output(wait=True)\n",
    "    plt.pause(0.1)    "
   ]
  },
  {
   "cell_type": "markdown",
   "metadata": {},
   "source": [
    "### Export the pathlines to a GeoPackage\n",
    "GeoPackages allow for subsequent adding of layers; delete any pre-existing version of this GeoPackage to clear any pre-existing layers (often good practice in real projects)."
   ]
  },
  {
   "cell_type": "code",
   "execution_count": 34,
   "metadata": {
    "execution": {
     "iopub.execute_input": "2025-09-26T19:04:28.554435Z",
     "iopub.status.busy": "2025-09-26T19:04:28.554292Z",
     "iopub.status.idle": "2025-09-26T19:04:28.556781Z",
     "shell.execute_reply": "2025-09-26T19:04:28.556396Z"
    }
   },
   "outputs": [],
   "source": [
    "output_geopackage = Path(prt_model_ws / 'Pathlines.gpkg')\n",
    "output_geopackage.unlink(missing_ok=True)"
   ]
  },
  {
   "cell_type": "markdown",
   "metadata": {},
   "source": [
    "#### First the PRT results DataFrame needs to be converted to a ``GeoDataFrame``\n",
    "* In the real world, the model coordinates also need to be converted to real world coordinates. \n",
    "* We may also want to convert the travel times from the typical model time units of days to years.\n",
    "* We may want to decompose the ``cellid`` into model layer (`k`) and ``cell2d`` (location in each layer, in this case), or layer, row column if the model has a regular structured grid.\n",
    "* Finally, the GeoDataFrame will need a coordinate reference (to write to the GeoPackage) defining the coordinate reference system for the real-world coordinates (for example, UTM zone 15 north, represented by EPSG code 29615)."
   ]
  },
  {
   "cell_type": "code",
   "execution_count": 35,
   "metadata": {
    "execution": {
     "iopub.execute_input": "2025-09-26T19:04:28.558045Z",
     "iopub.status.busy": "2025-09-26T19:04:28.557910Z",
     "iopub.status.idle": "2025-09-26T19:04:28.559982Z",
     "shell.execute_reply": "2025-09-26T19:04:28.559589Z"
    }
   },
   "outputs": [],
   "source": [
    "gwf.modelgrid.crs # no CRS attached"
   ]
  },
  {
   "cell_type": "code",
   "execution_count": 36,
   "metadata": {
    "execution": {
     "iopub.execute_input": "2025-09-26T19:04:28.561163Z",
     "iopub.status.busy": "2025-09-26T19:04:28.561031Z",
     "iopub.status.idle": "2025-09-26T19:04:28.564781Z",
     "shell.execute_reply": "2025-09-26T19:04:28.564401Z"
    }
   },
   "outputs": [],
   "source": [
    "gwf.modelgrid.crs = 26915"
   ]
  },
  {
   "cell_type": "code",
   "execution_count": 37,
   "metadata": {
    "execution": {
     "iopub.execute_input": "2025-09-26T19:04:28.566076Z",
     "iopub.status.busy": "2025-09-26T19:04:28.565921Z",
     "iopub.status.idle": "2025-09-26T19:04:28.569499Z",
     "shell.execute_reply": "2025-09-26T19:04:28.569102Z"
    }
   },
   "outputs": [],
   "source": [
    "df['t_years'] = df['t'] / 325.25\n",
    "df['k'] = df['icell'] // ncells_per_layer\n",
    "df['cell2d'] = df['icell'] % ncells_per_layer\n"
   ]
  },
  {
   "cell_type": "code",
   "execution_count": 38,
   "metadata": {
    "execution": {
     "iopub.execute_input": "2025-09-26T19:04:28.570713Z",
     "iopub.status.busy": "2025-09-26T19:04:28.570578Z",
     "iopub.status.idle": "2025-09-26T19:04:28.575470Z",
     "shell.execute_reply": "2025-09-26T19:04:28.575017Z"
    }
   },
   "outputs": [],
   "source": [
    "x_crs, y_crs = gwf.modelgrid.get_coords(df['x'], df['y'])\n",
    "\n",
    "gdf = gpd.GeoDataFrame(df, \n",
    "                       geometry=gpd.points_from_xy(x_crs, y_crs),\n",
    "                       crs=gwf.modelgrid.crs)"
   ]
  },
  {
   "cell_type": "markdown",
   "metadata": {},
   "source": [
    "#### write the GeoPackage\n",
    "Write particles terminating in Well and SFR cells to separate layers"
   ]
  },
  {
   "cell_type": "code",
   "execution_count": 39,
   "metadata": {
    "execution": {
     "iopub.execute_input": "2025-09-26T19:04:28.576794Z",
     "iopub.status.busy": "2025-09-26T19:04:28.576642Z",
     "iopub.status.idle": "2025-09-26T19:04:28.647878Z",
     "shell.execute_reply": "2025-09-26T19:04:28.647401Z"
    }
   },
   "outputs": [
    {
     "name": "stderr",
     "output_type": "stream",
     "text": [
      "/home/runner/micromamba/envs/pyclass-docs/lib/python3.11/site-packages/pyogrio/__init__.py:7: DeprecationWarning: The 'shapely.geos' module is deprecated, and will be removed in a future version. All attributes of 'shapely.geos' are available directly from the top-level 'shapely' namespace (since shapely 2.0.0).\n",
      "  import shapely.geos  # noqa: F401\n"
     ]
    }
   ],
   "source": [
    "for package, izone in izones.items():\n",
    "    layer_name = f\"Particles going to {package.upper()} cells\"\n",
    "    izone_df = gdf.loc[gdf['izone'] == izone]\n",
    "    izone_df.to_file(output_geopackage, index=False, layer=layer_name)\n",
    "\n",
    "gdf.loc[gdf['izone'] == 0].to_file(\n",
    "    output_geopackage, index=False, layer='All other particles')"
   ]
  },
  {
   "cell_type": "markdown",
   "metadata": {},
   "source": [
    "#### Add a layer with pathlines\n",
    "The previous layers that we added to the GeoPackage were points representing particle locations at discrete points in time. We can also combine these in to pathlines (linestrings) to better visualize the paths taken by the particles. In real-world projects, for example where are particle is started in every cell of a large model, we may also have too many points to work with easily; showing a single pathline for each particle may be advantageous."
   ]
  },
  {
   "cell_type": "code",
   "execution_count": 40,
   "metadata": {
    "execution": {
     "iopub.execute_input": "2025-09-26T19:04:28.649539Z",
     "iopub.status.busy": "2025-09-26T19:04:28.649299Z",
     "iopub.status.idle": "2025-09-26T19:04:28.661165Z",
     "shell.execute_reply": "2025-09-26T19:04:28.660765Z"
    }
   },
   "outputs": [],
   "source": [
    "from shapely.geometry import LineString\n",
    "\n",
    "# create set of pathlines with start and end information\n",
    "# first group by particle\n",
    "by_particle = gdf.sort_values(by=['irpt', 't']).groupby('irpt')\n",
    "lines = by_particle.last()\n",
    "lines.crs = gdf.crs  # CRS isn't retained in groupby\n",
    "lines.rename(columns={'k': 'end_k', 'cell2d': 'end_cell2d'}, inplace=True)\n",
    "line_starts = by_particle.first()\n",
    "lines['start_k'] = line_starts['k']\n",
    "lines['start_cell2d'] = line_starts['cell2d']\n",
    "\n",
    "# above we sorted the results by particle and then time\n",
    "# use the .agg method on the grouby object to create a LineString\n",
    "# from the (sorted) sequence of points defining each particle path\n",
    "linestring_geoms = by_particle['geometry'].agg(lambda x: LineString(x))\n",
    "lines['geometry'] = linestring_geoms"
   ]
  },
  {
   "cell_type": "code",
   "execution_count": 41,
   "metadata": {
    "execution": {
     "iopub.execute_input": "2025-09-26T19:04:28.662548Z",
     "iopub.status.busy": "2025-09-26T19:04:28.662406Z",
     "iopub.status.idle": "2025-09-26T19:04:28.705112Z",
     "shell.execute_reply": "2025-09-26T19:04:28.704701Z"
    }
   },
   "outputs": [],
   "source": [
    "for package, izone in izones.items():\n",
    "    layer_name = f\"Pathlines going to {package.upper()} cells\"\n",
    "    izone_df = lines.loc[lines['izone'] == izone]\n",
    "    izone_df.to_file(output_geopackage, index=False, layer=layer_name)\n",
    "izone_df.loc[izone_df['izone'] == 0].to_file(\n",
    "    output_geopackage, index=False, layer='All other pathlines')"
   ]
  },
  {
   "cell_type": "markdown",
   "metadata": {},
   "source": [
    "### Plot pathlines going to SFR and WEL cells"
   ]
  },
  {
   "cell_type": "code",
   "execution_count": 42,
   "metadata": {
    "execution": {
     "iopub.execute_input": "2025-09-26T19:04:28.706449Z",
     "iopub.status.busy": "2025-09-26T19:04:28.706313Z",
     "iopub.status.idle": "2025-09-26T19:04:29.330182Z",
     "shell.execute_reply": "2025-09-26T19:04:29.329711Z"
    }
   },
   "outputs": [
    {
     "name": "stderr",
     "output_type": "stream",
     "text": [
      "/tmp/ipykernel_12275/3686669298.py:10: UserWarning: The GeoDataFrame you are attempting to plot is empty. Nothing has been displayed.\n",
      "  izone_df.plot(ax=ax, ec=line_colors[package],\n"
     ]
    },
    {
     "data": {
      "text/plain": [
       "<matplotlib.legend.Legend at 0x7ffb8375e5d0>"
      ]
     },
     "execution_count": 42,
     "metadata": {},
     "output_type": "execute_result"
    },
    {
     "data": {
      "image/png": "[encoded data removed]",
      "text/plain": [
       "<Figure size 600x1000 with 1 Axes>"
      ]
     },
     "metadata": {},
     "output_type": "display_data"
    }
   ],
   "source": [
    "fig, ax = plt.subplots(figsize=(6, 10))\n",
    "pmv = flopy.plot.PlotMapView(gwf, ax=ax)\n",
    "pmv.plot_grid(lw=0.5)\n",
    "line_colors = {\n",
    "    'sfr': 'b',\n",
    "    'wel': 'r'\n",
    "}\n",
    "for package, izone in izones.items():\n",
    "    izone_df = lines.loc[lines['izone'] == izone]\n",
    "    izone_df.plot(ax=ax, ec=line_colors[package],\n",
    "                  label=f'Pathlines going to {package.upper()} cells')\n",
    "lines.loc[lines['izone'] == 0].plot(\n",
    "    ax=ax, ec='g',\n",
    "    label=f'All other pathlines')\n",
    "pmv.plot_ibound()\n",
    "pmv.ax.legend()"
   ]
  },
  {
   "cell_type": "code",
   "execution_count": 43,
   "metadata": {
    "execution": {
     "iopub.execute_input": "2025-09-26T19:04:29.331556Z",
     "iopub.status.busy": "2025-09-26T19:04:29.331414Z",
     "iopub.status.idle": "2025-09-26T19:04:29.344227Z",
     "shell.execute_reply": "2025-09-26T19:04:29.343822Z"
    }
   },
   "outputs": [
    {
     "data": {
      "text/html": [
       "<div>\n",
       "<style scoped>\n",
       "    .dataframe tbody tr th:only-of-type {\n",
       "        vertical-align: middle;\n",
       "    }\n",
       "\n",
       "    .dataframe tbody tr th {\n",
       "        vertical-align: top;\n",
       "    }\n",
       "\n",
       "    .dataframe thead th {\n",
       "        text-align: right;\n",
       "    }\n",
       "</style>\n",
       "<table border=\"1\" class=\"dataframe\">\n",
       "  <thead>\n",
       "    <tr style=\"text-align: right;\">\n",
       "      <th></th>\n",
       "      <th>kper</th>\n",
       "      <th>kstp</th>\n",
       "      <th>imdl</th>\n",
       "      <th>iprp</th>\n",
       "      <th>ilay</th>\n",
       "      <th>icell</th>\n",
       "      <th>izone</th>\n",
       "      <th>istatus</th>\n",
       "      <th>ireason</th>\n",
       "      <th>trelease</th>\n",
       "      <th>...</th>\n",
       "      <th>x</th>\n",
       "      <th>y</th>\n",
       "      <th>z</th>\n",
       "      <th>name</th>\n",
       "      <th>t_years</th>\n",
       "      <th>end_k</th>\n",
       "      <th>end_cell2d</th>\n",
       "      <th>geometry</th>\n",
       "      <th>start_k</th>\n",
       "      <th>start_cell2d</th>\n",
       "    </tr>\n",
       "    <tr>\n",
       "      <th>irpt</th>\n",
       "      <th></th>\n",
       "      <th></th>\n",
       "      <th></th>\n",
       "      <th></th>\n",
       "      <th></th>\n",
       "      <th></th>\n",
       "      <th></th>\n",
       "      <th></th>\n",
       "      <th></th>\n",
       "      <th></th>\n",
       "      <th></th>\n",
       "      <th></th>\n",
       "      <th></th>\n",
       "      <th></th>\n",
       "      <th></th>\n",
       "      <th></th>\n",
       "      <th></th>\n",
       "      <th></th>\n",
       "      <th></th>\n",
       "      <th></th>\n",
       "      <th></th>\n",
       "    </tr>\n",
       "  </thead>\n",
       "  <tbody>\n",
       "    <tr>\n",
       "      <th>1</th>\n",
       "      <td>1</td>\n",
       "      <td>1</td>\n",
       "      <td>1</td>\n",
       "      <td>1</td>\n",
       "      <td>3</td>\n",
       "      <td>11220</td>\n",
       "      <td>1</td>\n",
       "      <td>5</td>\n",
       "      <td>3</td>\n",
       "      <td>0.0</td>\n",
       "      <td>...</td>\n",
       "      <td>3867.121145</td>\n",
       "      <td>7882.863742</td>\n",
       "      <td>7.757005</td>\n",
       "      <td>PRT_1352</td>\n",
       "      <td>108.484092</td>\n",
       "      <td>2</td>\n",
       "      <td>1004</td>\n",
       "      <td>LINESTRING (375 7125, 375 7125, 378.953 7250, ...</td>\n",
       "      <td>0</td>\n",
       "      <td>1353</td>\n",
       "    </tr>\n",
       "    <tr>\n",
       "      <th>2</th>\n",
       "      <td>1</td>\n",
       "      <td>1</td>\n",
       "      <td>1</td>\n",
       "      <td>1</td>\n",
       "      <td>3</td>\n",
       "      <td>11437</td>\n",
       "      <td>1</td>\n",
       "      <td>5</td>\n",
       "      <td>3</td>\n",
       "      <td>0.0</td>\n",
       "      <td>...</td>\n",
       "      <td>3117.167488</td>\n",
       "      <td>7382.776291</td>\n",
       "      <td>7.732968</td>\n",
       "      <td>PRT_1353</td>\n",
       "      <td>91.056153</td>\n",
       "      <td>2</td>\n",
       "      <td>1221</td>\n",
       "      <td>LINESTRING (625 7125, 625 7125, 627.449 7250, ...</td>\n",
       "      <td>0</td>\n",
       "      <td>1354</td>\n",
       "    </tr>\n",
       "    <tr>\n",
       "      <th>3</th>\n",
       "      <td>1</td>\n",
       "      <td>1</td>\n",
       "      <td>1</td>\n",
       "      <td>1</td>\n",
       "      <td>3</td>\n",
       "      <td>13271</td>\n",
       "      <td>0</td>\n",
       "      <td>2</td>\n",
       "      <td>3</td>\n",
       "      <td>0.0</td>\n",
       "      <td>...</td>\n",
       "      <td>3618.667133</td>\n",
       "      <td>4015.860878</td>\n",
       "      <td>5.953580</td>\n",
       "      <td>PRT_1459</td>\n",
       "      <td>236.930790</td>\n",
       "      <td>2</td>\n",
       "      <td>3055</td>\n",
       "      <td>LINESTRING (375 6875, 375 6875, 367.643 6750, ...</td>\n",
       "      <td>0</td>\n",
       "      <td>1460</td>\n",
       "    </tr>\n",
       "    <tr>\n",
       "      <th>4</th>\n",
       "      <td>1</td>\n",
       "      <td>1</td>\n",
       "      <td>1</td>\n",
       "      <td>1</td>\n",
       "      <td>3</td>\n",
       "      <td>12779</td>\n",
       "      <td>1</td>\n",
       "      <td>5</td>\n",
       "      <td>3</td>\n",
       "      <td>0.0</td>\n",
       "      <td>...</td>\n",
       "      <td>3367.009282</td>\n",
       "      <td>5132.899285</td>\n",
       "      <td>6.454878</td>\n",
       "      <td>PRT_1460</td>\n",
       "      <td>204.729294</td>\n",
       "      <td>2</td>\n",
       "      <td>2563</td>\n",
       "      <td>LINESTRING (625 6875, 625 6875, 623.814 6750, ...</td>\n",
       "      <td>0</td>\n",
       "      <td>1461</td>\n",
       "    </tr>\n",
       "    <tr>\n",
       "      <th>5</th>\n",
       "      <td>1</td>\n",
       "      <td>1</td>\n",
       "      <td>1</td>\n",
       "      <td>1</td>\n",
       "      <td>3</td>\n",
       "      <td>13249</td>\n",
       "      <td>0</td>\n",
       "      <td>2</td>\n",
       "      <td>3</td>\n",
       "      <td>0.0</td>\n",
       "      <td>...</td>\n",
       "      <td>3568.882110</td>\n",
       "      <td>4102.309981</td>\n",
       "      <td>6.198813</td>\n",
       "      <td>PRT_1581</td>\n",
       "      <td>147.730434</td>\n",
       "      <td>2</td>\n",
       "      <td>3033</td>\n",
       "      <td>LINESTRING (375 6625, 375.698 6500, 385.798 62...</td>\n",
       "      <td>0</td>\n",
       "      <td>1582</td>\n",
       "    </tr>\n",
       "    <tr>\n",
       "      <th>6</th>\n",
       "      <td>1</td>\n",
       "      <td>1</td>\n",
       "      <td>1</td>\n",
       "      <td>1</td>\n",
       "      <td>3</td>\n",
       "      <td>12863</td>\n",
       "      <td>0</td>\n",
       "      <td>2</td>\n",
       "      <td>3</td>\n",
       "      <td>0.0</td>\n",
       "      <td>...</td>\n",
       "      <td>3065.795508</td>\n",
       "      <td>4907.706966</td>\n",
       "      <td>6.184416</td>\n",
       "      <td>PRT_1582</td>\n",
       "      <td>127.007399</td>\n",
       "      <td>2</td>\n",
       "      <td>2647</td>\n",
       "      <td>LINESTRING (625 6625, 628.34 6500, 636.278 625...</td>\n",
       "      <td>0</td>\n",
       "      <td>1583</td>\n",
       "    </tr>\n",
       "  </tbody>\n",
       "</table>\n",
       "<p>6 rows × 21 columns</p>\n",
       "</div>"
      ],
      "text/plain": [
       "      kper  kstp  imdl  iprp  ilay  icell  izone  istatus  ireason  trelease  \\\n",
       "irpt                                                                           \n",
       "1        1     1     1     1     3  11220      1        5        3       0.0   \n",
       "2        1     1     1     1     3  11437      1        5        3       0.0   \n",
       "3        1     1     1     1     3  13271      0        2        3       0.0   \n",
       "4        1     1     1     1     3  12779      1        5        3       0.0   \n",
       "5        1     1     1     1     3  13249      0        2        3       0.0   \n",
       "6        1     1     1     1     3  12863      0        2        3       0.0   \n",
       "\n",
       "      ...            x            y         z      name     t_years  end_k  \\\n",
       "irpt  ...                                                                    \n",
       "1     ...  3867.121145  7882.863742  7.757005  PRT_1352  108.484092      2   \n",
       "2     ...  3117.167488  7382.776291  7.732968  PRT_1353   91.056153      2   \n",
       "3     ...  3618.667133  4015.860878  5.953580  PRT_1459  236.930790      2   \n",
       "4     ...  3367.009282  5132.899285  6.454878  PRT_1460  204.729294      2   \n",
       "5     ...  3568.882110  4102.309981  6.198813  PRT_1581  147.730434      2   \n",
       "6     ...  3065.795508  4907.706966  6.184416  PRT_1582  127.007399      2   \n",
       "\n",
       "      end_cell2d                                           geometry start_k  \\\n",
       "irpt                                                                          \n",
       "1           1004  LINESTRING (375 7125, 375 7125, 378.953 7250, ...       0   \n",
       "2           1221  LINESTRING (625 7125, 625 7125, 627.449 7250, ...       0   \n",
       "3           3055  LINESTRING (375 6875, 375 6875, 367.643 6750, ...       0   \n",
       "4           2563  LINESTRING (625 6875, 625 6875, 623.814 6750, ...       0   \n",
       "5           3033  LINESTRING (375 6625, 375.698 6500, 385.798 62...       0   \n",
       "6           2647  LINESTRING (625 6625, 628.34 6500, 636.278 625...       0   \n",
       "\n",
       "      start_cell2d  \n",
       "irpt                \n",
       "1             1353  \n",
       "2             1354  \n",
       "3             1460  \n",
       "4             1461  \n",
       "5             1582  \n",
       "6             1583  \n",
       "\n",
       "[6 rows x 21 columns]"
      ]
     },
     "execution_count": 43,
     "metadata": {},
     "output_type": "execute_result"
    }
   ],
   "source": [
    "lines"
   ]
  },
  {
   "cell_type": "markdown",
   "metadata": {},
   "source": [
    "### Why don't the SFR Pathlines end up in `izone=2`?\n",
    "Clearly, these particles are terminating in SFR cells.\n",
    "\n",
    "The ending `icell` values for these lines are in `izone=2`"
   ]
  },
  {
   "cell_type": "code",
   "execution_count": 44,
   "metadata": {
    "execution": {
     "iopub.execute_input": "2025-09-26T19:04:29.345647Z",
     "iopub.status.busy": "2025-09-26T19:04:29.345493Z",
     "iopub.status.idle": "2025-09-26T19:04:29.349357Z",
     "shell.execute_reply": "2025-09-26T19:04:29.348880Z"
    }
   },
   "outputs": [
    {
     "data": {
      "text/plain": [
       "array([2, 2, 2])"
      ]
     },
     "execution_count": 44,
     "metadata": {},
     "output_type": "execute_result"
    }
   ],
   "source": [
    "izone_array.flat[(lines.loc[lines['izone'] == 0, 'icell'] -1).values]"
   ]
  },
  {
   "cell_type": "markdown",
   "metadata": {},
   "source": [
    "And the ending layer and cell2d locations for these lines are in the SFR Package:"
   ]
  },
  {
   "cell_type": "code",
   "execution_count": 45,
   "metadata": {
    "execution": {
     "iopub.execute_input": "2025-09-26T19:04:29.350637Z",
     "iopub.status.busy": "2025-09-26T19:04:29.350493Z",
     "iopub.status.idle": "2025-09-26T19:04:29.354719Z",
     "shell.execute_reply": "2025-09-26T19:04:29.354336Z"
    }
   },
   "outputs": [
    {
     "data": {
      "text/plain": [
       "True"
      ]
     },
     "execution_count": 45,
     "metadata": {},
     "output_type": "execute_result"
    }
   ],
   "source": [
    "sfr_k, sfr_cell2d = zip(*gwf.sfr.packagedata.array['cellid'])\n",
    "all(lines.loc[lines['izone'] == 0, 'end_cell2d'].isin(np.array(sfr_cell2d)+1))"
   ]
  },
  {
   "cell_type": "markdown",
   "metadata": {},
   "source": [
    "Note also that running this exercise without specifying `iflowface` (setting `write_iflowface=False` above), we get the expected result of the pathlines that end in SFR cells having `izone=2` in their last record in the PRT results."
   ]
  },
  {
   "cell_type": "markdown",
   "metadata": {},
   "source": [
    "### References\n",
    "Abrams, D., Haitjema, H. and Kauffman, L. (2013), On Modeling Weak Sinks in MODPATH. Groundwater, 51: 597-602. https://doi.org/10.1111/j.1745-6584.2012.00995.x"
   ]
  },
  {
   "cell_type": "markdown",
   "metadata": {},
   "source": []
  }
 ],
 "metadata": {
  "kernelspec": {
   "display_name": "pyclass",
   "language": "python",
   "name": "python3"
  },
  "language_info": {
   "codemirror_mode": {
    "name": "ipython",
    "version": 3
   },
   "file_extension": ".py",
   "mimetype": "text/x-python",
   "name": "python",
   "nbconvert_exporter": "python",
   "pygments_lexer": "ipython3",
   "version": "3.11.13"
  }
 },
 "nbformat": 4,
 "nbformat_minor": 4
}
